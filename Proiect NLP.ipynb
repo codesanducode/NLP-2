{
 "cells": [
  {
   "cell_type": "code",
   "execution_count": 1,
   "metadata": {},
   "outputs": [],
   "source": [
    "import os\n",
    "import sys\n",
    "import numpy as np\n",
    "import pandas as pd\n",
    "import matplotlib.pyplot as plt\n",
    "from tensorflow.keras.preprocessing.text import Tokenizer\n",
    "from tensorflow.keras.preprocessing.sequence import pad_sequences\n",
    "from tensorflow.keras.layers import Dense, Input, GlobalMaxPooling1D, Dropout, Flatten\n",
    "from tensorflow.keras.layers import LSTM, Bidirectional, Conv1D, MaxPooling1D, Embedding\n",
    "from tensorflow.keras.models import Model\n",
    "from tensorflow.keras.optimizers import Adam\n",
    "from sklearn.metrics import roc_auc_score"
   ]
  },
  {
   "cell_type": "code",
   "execution_count": 2,
   "metadata": {},
   "outputs": [],
   "source": [
    "# some configuration\n",
    "MAX_SEQUENCE_LENGTH = 100\n",
    "MAX_VOCAB_SIZE = 20000\n",
    "EMBEDDING_DIM = 100\n",
    "VALIDATION_SPLIT = 0.2\n",
    "BATCH_SIZE = 128\n",
    "EPOCHS = 10"
   ]
  },
  {
   "cell_type": "code",
   "execution_count": 3,
   "metadata": {},
   "outputs": [
    {
     "name": "stdout",
     "output_type": "stream",
     "text": [
      "Loading word vectors...\n",
      "Found 400000 word vectors.\n"
     ]
    }
   ],
   "source": [
    "# load in pre-trained word vectors\n",
    "print('Loading word vectors...')\n",
    "word2vec = {}\n",
    "with open(os.path.join('D:\\\\master_an2\\\\NLP\\\\glove.6B.%sd.txt' % EMBEDDING_DIM), encoding = 'utf8') as f:\n",
    "  # is just a space-separated text file in the format:\n",
    "  # word vec[0] vec[1] vec[2] ...\n",
    "    for line in f:\n",
    "        values = line.split()\n",
    "        word = values[0]\n",
    "        vec = np.asarray(values[1:], dtype='float32')\n",
    "        word2vec[word] = vec\n",
    "print('Found %s word vectors.' % len(word2vec))"
   ]
  },
  {
   "cell_type": "code",
   "execution_count": 4,
   "metadata": {},
   "outputs": [
    {
     "name": "stdout",
     "output_type": "stream",
     "text": [
      "Loading in comments...\n"
     ]
    }
   ],
   "source": [
    "# prepare text samples and their labels\n",
    "print('Loading in comments...')\n",
    "\n",
    "train = pd.read_csv(\"D:\\\\master_an2\\\\NLP\\\\train.csv\\\\train.csv\")\n",
    "sentences = train[\"comment_text\"].fillna(\"DUMMY_VALUE\").values\n",
    "possible_labels = [\"toxic\", \"severe_toxic\", \"obscene\", \"threat\", \"insult\", \"identity_hate\"]\n",
    "targets = train[possible_labels].values\n"
   ]
  },
  {
   "cell_type": "code",
   "execution_count": 5,
   "metadata": {},
   "outputs": [],
   "source": [
    "# convert the sentences (strings) into integers\n",
    "tokenizer = Tokenizer(num_words=MAX_VOCAB_SIZE)\n",
    "tokenizer.fit_on_texts(sentences)\n",
    "sequences = tokenizer.texts_to_sequences(sentences)"
   ]
  },
  {
   "cell_type": "code",
   "execution_count": 6,
   "metadata": {},
   "outputs": [
    {
     "name": "stdout",
     "output_type": "stream",
     "text": [
      "max sequence length: 1400\n",
      "min sequence length: 0\n",
      "median sequence length: 35\n",
      "max word index: 19999\n"
     ]
    }
   ],
   "source": [
    "print(\"max sequence length:\", max(len(s) for s in sequences))\n",
    "print(\"min sequence length:\", min(len(s) for s in sequences))\n",
    "s = sorted(len(s) for s in sequences)\n",
    "print(\"median sequence length:\", s[len(s) // 2])\n",
    "\n",
    "print(\"max word index:\", max(max(seq) for seq in sequences if len(seq) > 0))"
   ]
  },
  {
   "cell_type": "code",
   "execution_count": 7,
   "metadata": {},
   "outputs": [
    {
     "name": "stdout",
     "output_type": "stream",
     "text": [
      "Found 210337 unique tokens.\n"
     ]
    }
   ],
   "source": [
    "\n",
    "# get word -> integer mapping\n",
    "word2idx = tokenizer.word_index\n",
    "print('Found %s unique tokens.' % len(word2idx))"
   ]
  },
  {
   "cell_type": "code",
   "execution_count": 8,
   "metadata": {},
   "outputs": [
    {
     "name": "stdout",
     "output_type": "stream",
     "text": [
      "Shape of data tensor: (159571, 100)\n"
     ]
    }
   ],
   "source": [
    "# pad sequences so that we get a N x T matrix\n",
    "data = pad_sequences(sequences, maxlen=MAX_SEQUENCE_LENGTH)\n",
    "print('Shape of data tensor:', data.shape)"
   ]
  },
  {
   "cell_type": "code",
   "execution_count": 9,
   "metadata": {},
   "outputs": [
    {
     "name": "stdout",
     "output_type": "stream",
     "text": [
      "Filling pre-trained embeddings...\n"
     ]
    }
   ],
   "source": [
    "# prepare embedding matrix\n",
    "print('Filling pre-trained embeddings...')\n",
    "num_words = min(MAX_VOCAB_SIZE, len(word2idx) + 1)\n",
    "embedding_matrix = np.zeros((num_words, EMBEDDING_DIM))\n",
    "for word, i in word2idx.items():\n",
    "    if i < MAX_VOCAB_SIZE:\n",
    "        embedding_vector = word2vec.get(word)\n",
    "        if embedding_vector is not None:\n",
    "            # words not found in embedding index will be all zeros.\n",
    "            embedding_matrix[i] = embedding_vector\n"
   ]
  },
  {
   "cell_type": "code",
   "execution_count": 10,
   "metadata": {},
   "outputs": [],
   "source": [
    "# load pre-trained word embeddings into an Embedding layer\n",
    "# note that we set trainable = False so as to keep the embeddings fixed\n",
    "embedding_layer = Embedding(\n",
    "  num_words,\n",
    "  EMBEDDING_DIM,\n",
    "  weights=[embedding_matrix],\n",
    "  input_length=MAX_SEQUENCE_LENGTH,\n",
    "  trainable=False\n",
    ")"
   ]
  },
  {
   "cell_type": "code",
   "execution_count": 11,
   "metadata": {},
   "outputs": [
    {
     "name": "stdout",
     "output_type": "stream",
     "text": [
      "Building model...\n"
     ]
    }
   ],
   "source": [
    "print('Building model...')\n",
    "\n",
    "# train a 1D convnet with global maxpooling\n",
    "input_ = Input(shape=(MAX_SEQUENCE_LENGTH,))\n",
    "x = embedding_layer(input_)\n",
    "x = Conv1D(128, 3, activation='relu')(x)\n",
    "x = MaxPooling1D(3)(x)\n",
    "x = Conv1D(128, 3, activation='relu')(x)\n",
    "x = MaxPooling1D(3)(x)\n",
    "x = Conv1D(128, 3, activation='relu')(x)\n",
    "x = GlobalMaxPooling1D()(x)\n",
    "x = Dense(128, activation='relu')(x)\n",
    "output = Dense(len(possible_labels), activation='sigmoid')(x)\n",
    "\n",
    "model = Model(input_, output)\n",
    "model.compile(\n",
    "  loss='binary_crossentropy',\n",
    "  optimizer='rmsprop',\n",
    "  metrics=['accuracy']\n",
    ")\n"
   ]
  },
  {
   "cell_type": "code",
   "execution_count": 15,
   "metadata": {},
   "outputs": [
    {
     "name": "stdout",
     "output_type": "stream",
     "text": [
      "Training model...\n",
      "Epoch 1/10\n",
      "998/998 [==============================] - 13s 13ms/step - loss: 0.0838 - accuracy: 0.9834 - val_loss: 0.0738 - val_accuracy: 0.9941\n",
      "Epoch 2/10\n",
      "998/998 [==============================] - 12s 12ms/step - loss: 0.0674 - accuracy: 0.9930 - val_loss: 0.0716 - val_accuracy: 0.9941\n",
      "Epoch 3/10\n",
      "998/998 [==============================] - 12s 12ms/step - loss: 0.0624 - accuracy: 0.9931 - val_loss: 0.0707 - val_accuracy: 0.9916\n",
      "Epoch 4/10\n",
      "998/998 [==============================] - 12s 12ms/step - loss: 0.0591 - accuracy: 0.9933 - val_loss: 0.0690 - val_accuracy: 0.9941\n",
      "Epoch 5/10\n",
      "998/998 [==============================] - 12s 12ms/step - loss: 0.0569 - accuracy: 0.9937 - val_loss: 0.0749 - val_accuracy: 0.9941\n",
      "Epoch 6/10\n",
      "998/998 [==============================] - 12s 12ms/step - loss: 0.0545 - accuracy: 0.9933 - val_loss: 0.0696 - val_accuracy: 0.9941\n",
      "Epoch 7/10\n",
      "998/998 [==============================] - 12s 12ms/step - loss: 0.0528 - accuracy: 0.9935 - val_loss: 0.0749 - val_accuracy: 0.9936\n",
      "Epoch 8/10\n",
      "998/998 [==============================] - 12s 12ms/step - loss: 0.0514 - accuracy: 0.9935 - val_loss: 0.0920 - val_accuracy: 0.9931\n",
      "Epoch 9/10\n",
      "998/998 [==============================] - 12s 12ms/step - loss: 0.0494 - accuracy: 0.9936 - val_loss: 0.0844 - val_accuracy: 0.9915\n",
      "Epoch 10/10\n",
      "998/998 [==============================] - 12s 12ms/step - loss: 0.0485 - accuracy: 0.9932 - val_loss: 0.1025 - val_accuracy: 0.9932\n"
     ]
    }
   ],
   "source": [
    "print('Training model...')\n",
    "r = model.fit(\n",
    "  data,\n",
    "  targets,\n",
    "  batch_size=BATCH_SIZE,\n",
    "  epochs=EPOCHS,\n",
    "  validation_split=VALIDATION_SPLIT\n",
    ")"
   ]
  },
  {
   "cell_type": "code",
   "execution_count": 16,
   "metadata": {},
   "outputs": [
    {
     "data": {
      "image/png": "[encoded data removed]",
      "text/plain": [
       "<Figure size 432x288 with 1 Axes>"
      ]
     },
     "metadata": {
      "needs_background": "light"
     },
     "output_type": "display_data"
    }
   ],
   "source": [
    "# plot some data\n",
    "plt.plot(r.history['loss'], label='loss')\n",
    "plt.plot(r.history['val_loss'], label='val_loss')\n",
    "plt.legend()\n",
    "plt.show()"
   ]
  },
  {
   "cell_type": "code",
   "execution_count": 17,
   "metadata": {},
   "outputs": [
    {
     "data": {
      "image/png": "[encoded data removed]",
      "text/plain": [
       "<Figure size 432x288 with 1 Axes>"
      ]
     },
     "metadata": {
      "needs_background": "light"
     },
     "output_type": "display_data"
    }
   ],
   "source": [
    "# accuracies\n",
    "plt.plot(r.history['accuracy'], label='acc')\n",
    "plt.plot(r.history['val_accuracy'], label='val_acc')\n",
    "plt.legend()\n",
    "plt.show()\n"
   ]
  },
  {
   "cell_type": "code",
   "execution_count": 18,
   "metadata": {},
   "outputs": [
    {
     "name": "stdout",
     "output_type": "stream",
     "text": [
      "0.9759526341449455\n"
     ]
    }
   ],
   "source": [
    "# plot the mean AUC over each label\n",
    "p = model.predict(data)\n",
    "aucs = []\n",
    "for j in range(6):\n",
    "    auc = roc_auc_score(targets[:,j], p[:,j])\n",
    "    aucs.append(auc)\n",
    "print(np.mean(aucs))"
   ]
  },
  {
   "cell_type": "markdown",
   "metadata": {},
   "source": [
    "# Lstm"
   ]
  },
  {
   "cell_type": "code",
   "execution_count": 15,
   "metadata": {},
   "outputs": [],
   "source": [
    "input_ = Input(shape=(MAX_SEQUENCE_LENGTH,))\n",
    "x = embedding_layer(input_)\n",
    "x = LSTM(15, return_sequences = True)(x)\n",
    "x = GlobalMaxPooling1D()(x)\n",
    "x = Dense(128, activation='relu')(x)\n",
    "output = Dense(len(possible_labels), activation='sigmoid')(x)\n",
    "\n",
    "model = Model(input_, output)\n",
    "model.compile(\n",
    "  loss='binary_crossentropy',\n",
    "  optimizer=Adam(lr = 0.01),\n",
    "  metrics=['accuracy']\n",
    ")\n"
   ]
  },
  {
   "cell_type": "code",
   "execution_count": 16,
   "metadata": {},
   "outputs": [
    {
     "name": "stdout",
     "output_type": "stream",
     "text": [
      "Training model...\n",
      "Epoch 1/10\n",
      "998/998 [==============================] - 9s 9ms/step - loss: 0.0694 - accuracy: 0.9799 - val_loss: 0.0583 - val_accuracy: 0.9941\n",
      "Epoch 2/10\n",
      "998/998 [==============================] - 8s 8ms/step - loss: 0.0563 - accuracy: 0.9861 - val_loss: 0.0555 - val_accuracy: 0.9941\n",
      "Epoch 3/10\n",
      "998/998 [==============================] - 8s 8ms/step - loss: 0.0534 - accuracy: 0.9902 - val_loss: 0.0548 - val_accuracy: 0.9941\n",
      "Epoch 4/10\n",
      "998/998 [==============================] - 8s 8ms/step - loss: 0.0517 - accuracy: 0.9766 - val_loss: 0.0544 - val_accuracy: 0.9940\n",
      "Epoch 5/10\n",
      "998/998 [==============================] - 8s 8ms/step - loss: 0.0511 - accuracy: 0.9800 - val_loss: 0.0553 - val_accuracy: 0.9920\n",
      "Epoch 6/10\n",
      "998/998 [==============================] - 8s 8ms/step - loss: 0.0500 - accuracy: 0.9732 - val_loss: 0.0540 - val_accuracy: 0.8924\n",
      "Epoch 7/10\n",
      "998/998 [==============================] - 8s 8ms/step - loss: 0.0494 - accuracy: 0.9807 - val_loss: 0.0538 - val_accuracy: 0.9939\n",
      "Epoch 8/10\n",
      "998/998 [==============================] - 8s 8ms/step - loss: 0.0486 - accuracy: 0.9903 - val_loss: 0.0549 - val_accuracy: 0.9941\n",
      "Epoch 9/10\n",
      "998/998 [==============================] - 8s 8ms/step - loss: 0.0480 - accuracy: 0.9886 - val_loss: 0.0531 - val_accuracy: 0.9821\n",
      "Epoch 10/10\n",
      "998/998 [==============================] - 11s 11ms/step - loss: 0.0474 - accuracy: 0.9860 - val_loss: 0.0534 - val_accuracy: 0.9907\n"
     ]
    }
   ],
   "source": [
    "print('Training model...')\n",
    "r = model.fit(\n",
    "  data,\n",
    "  targets,\n",
    "  batch_size=BATCH_SIZE,\n",
    "  epochs=EPOCHS,\n",
    "  validation_split=VALIDATION_SPLIT\n",
    ")"
   ]
  },
  {
   "cell_type": "code",
   "execution_count": 17,
   "metadata": {},
   "outputs": [
    {
     "data": {
      "image/png": "[encoded data removed]",
      "text/plain": [
       "<Figure size 432x288 with 1 Axes>"
      ]
     },
     "metadata": {
      "needs_background": "light"
     },
     "output_type": "display_data"
    }
   ],
   "source": [
    "# plot some data\n",
    "plt.plot(r.history['loss'], label='loss')\n",
    "plt.plot(r.history['val_loss'], label='val_loss')\n",
    "plt.legend()\n",
    "plt.show()"
   ]
  },
  {
   "cell_type": "code",
   "execution_count": 18,
   "metadata": {},
   "outputs": [
    {
     "data": {
      "image/png": "[encoded data removed]",
      "text/plain": [
       "<Figure size 432x288 with 1 Axes>"
      ]
     },
     "metadata": {
      "needs_background": "light"
     },
     "output_type": "display_data"
    }
   ],
   "source": [
    "# accuracies\n",
    "plt.plot(r.history['accuracy'], label='acc')\n",
    "plt.plot(r.history['val_accuracy'], label='val_acc')\n",
    "plt.legend()\n",
    "plt.show()\n"
   ]
  },
  {
   "cell_type": "code",
   "execution_count": 19,
   "metadata": {},
   "outputs": [
    {
     "name": "stdout",
     "output_type": "stream",
     "text": [
      "0.9808712937583318\n"
     ]
    }
   ],
   "source": [
    "# plot the mean AUC over each label\n",
    "p = model.predict(data)\n",
    "aucs = []\n",
    "for j in range(6):\n",
    "    auc = roc_auc_score(targets[:,j], p[:,j])\n",
    "    aucs.append(auc)\n",
    "print(np.mean(aucs))"
   ]
  },
  {
   "cell_type": "markdown",
   "metadata": {},
   "source": [
    "# BiLstm"
   ]
  },
  {
   "cell_type": "code",
   "execution_count": 11,
   "metadata": {},
   "outputs": [],
   "source": [
    "input_ = Input(shape=(MAX_SEQUENCE_LENGTH,))\n",
    "x = embedding_layer(input_)\n",
    "x = Bidirectional(LSTM(15, return_sequences=True))(x)\n",
    "x = GlobalMaxPooling1D()(x)\n",
    "x = Dense(128, activation='relu')(x)\n",
    "output = Dense(len(possible_labels), activation='sigmoid')(x)\n",
    "\n",
    "model = Model(input_, output)\n",
    "model.compile(\n",
    "  loss='binary_crossentropy',\n",
    "  optimizer=Adam(lr = 0.01),\n",
    "  metrics=['accuracy']\n",
    ")"
   ]
  },
  {
   "cell_type": "code",
   "execution_count": 12,
   "metadata": {},
   "outputs": [
    {
     "name": "stdout",
     "output_type": "stream",
     "text": [
      "Training model...\n",
      "Epoch 1/10\n",
      "998/998 [==============================] - 43s 41ms/step - loss: 0.0932 - accuracy: 0.9462 - val_loss: 0.0556 - val_accuracy: 0.9935\n",
      "Epoch 2/10\n",
      "998/998 [==============================] - 47s 47ms/step - loss: 0.0525 - accuracy: 0.9653 - val_loss: 0.0531 - val_accuracy: 0.9941\n",
      "Epoch 3/10\n",
      "998/998 [==============================] - 41s 42ms/step - loss: 0.0489 - accuracy: 0.9697 - val_loss: 0.0519 - val_accuracy: 0.9937\n",
      "Epoch 4/10\n",
      "998/998 [==============================] - 44s 44ms/step - loss: 0.0469 - accuracy: 0.9655 - val_loss: 0.0508 - val_accuracy: 0.9936\n",
      "Epoch 5/10\n",
      "998/998 [==============================] - 42s 42ms/step - loss: 0.0462 - accuracy: 0.9433 - val_loss: 0.0502 - val_accuracy: 0.9812\n",
      "Epoch 6/10\n",
      "998/998 [==============================] - 44s 44ms/step - loss: 0.0448 - accuracy: 0.9576 - val_loss: 0.0512 - val_accuracy: 0.9733\n",
      "Epoch 7/10\n",
      "998/998 [==============================] - 43s 43ms/step - loss: 0.0449 - accuracy: 0.9728 - val_loss: 0.0508 - val_accuracy: 0.9909\n",
      "Epoch 8/10\n",
      "998/998 [==============================] - 42s 42ms/step - loss: 0.0429 - accuracy: 0.9622 - val_loss: 0.0505 - val_accuracy: 0.9909\n",
      "Epoch 9/10\n",
      "998/998 [==============================] - 42s 42ms/step - loss: 0.0438 - accuracy: 0.9743 - val_loss: 0.0518 - val_accuracy: 0.9426\n",
      "Epoch 10/10\n",
      "998/998 [==============================] - 43s 44ms/step - loss: 0.0419 - accuracy: 0.9727 - val_loss: 0.0529 - val_accuracy: 0.9937\n"
     ]
    },
    {
     "data": {
      "image/png": "[encoded data removed]",
      "text/plain": [
       "<Figure size 432x288 with 1 Axes>"
      ]
     },
     "metadata": {
      "needs_background": "light"
     },
     "output_type": "display_data"
    },
    {
     "data": {
      "image/png": "[encoded data removed]",
      "text/plain": [
       "<Figure size 432x288 with 1 Axes>"
      ]
     },
     "metadata": {
      "needs_background": "light"
     },
     "output_type": "display_data"
    },
    {
     "name": "stdout",
     "output_type": "stream",
     "text": [
      "0.9850098034246998\n"
     ]
    }
   ],
   "source": [
    "print('Training model...')\n",
    "r = model.fit(\n",
    "  data,\n",
    "  targets,\n",
    "  batch_size=BATCH_SIZE,\n",
    "  epochs=EPOCHS,\n",
    "  validation_split=VALIDATION_SPLIT\n",
    ")\n",
    "\n",
    "\n",
    "# plot some data\n",
    "plt.plot(r.history['loss'], label='loss')\n",
    "plt.plot(r.history['val_loss'], label='val_loss')\n",
    "plt.legend()\n",
    "plt.show()\n",
    "\n",
    "# accuracies\n",
    "plt.plot(r.history['accuracy'], label='acc')\n",
    "plt.plot(r.history['val_accuracy'], label='val_acc')\n",
    "plt.legend()\n",
    "plt.show()\n",
    "\n",
    "\n",
    "# plot the mean AUC over each label\n",
    "p = model.predict(data)\n",
    "aucs = []\n",
    "for j in range(6):\n",
    "    auc = roc_auc_score(targets[:,j], p[:,j])\n",
    "    aucs.append(auc)\n",
    "print(np.mean(aucs))"
   ]
  },
  {
   "cell_type": "markdown",
   "metadata": {},
   "source": [
    "# Second Dataset"
   ]
  },
  {
   "cell_type": "code",
   "execution_count": 6,
   "metadata": {},
   "outputs": [],
   "source": [
    "df=pd.read_csv('D:\\\\Download\\\\labeled_data.csv',)"
   ]
  },
  {
   "cell_type": "code",
   "execution_count": 6,
   "metadata": {},
   "outputs": [
    {
     "data": {
      "text/plain": [
       "'RT @shantybear: bitch do I entertain you? Cause you always seem to be in my business'"
      ]
     },
     "execution_count": 6,
     "metadata": {},
     "output_type": "execute_result"
    }
   ],
   "source": [
    "df['tweet'][20003]"
   ]
  },
  {
   "cell_type": "code",
   "execution_count": 7,
   "metadata": {},
   "outputs": [
    {
     "data": {
      "text/plain": [
       "24783"
      ]
     },
     "execution_count": 7,
     "metadata": {},
     "output_type": "execute_result"
    }
   ],
   "source": [
    "len(df)"
   ]
  },
  {
   "cell_type": "code",
   "execution_count": 8,
   "metadata": {},
   "outputs": [
    {
     "data": {
      "text/plain": [
       "'\" bitch get up off me \"'"
      ]
     },
     "execution_count": 8,
     "metadata": {},
     "output_type": "execute_result"
    }
   ],
   "source": [
    "df['tweet'][14]"
   ]
  },
  {
   "cell_type": "code",
   "execution_count": 17,
   "metadata": {},
   "outputs": [
    {
     "data": {
      "text/plain": [
       "24783"
      ]
     },
     "execution_count": 17,
     "metadata": {},
     "output_type": "execute_result"
    }
   ],
   "source": [
    "len(df)"
   ]
  },
  {
   "cell_type": "code",
   "execution_count": 46,
   "metadata": {},
   "outputs": [
    {
     "data": {
      "text/html": [
       "<div>\n",
       "<style scoped>\n",
       "    .dataframe tbody tr th:only-of-type {\n",
       "        vertical-align: middle;\n",
       "    }\n",
       "\n",
       "    .dataframe tbody tr th {\n",
       "        vertical-align: top;\n",
       "    }\n",
       "\n",
       "    .dataframe thead th {\n",
       "        text-align: right;\n",
       "    }\n",
       "</style>\n",
       "<table border=\"1\" class=\"dataframe\">\n",
       "  <thead>\n",
       "    <tr style=\"text-align: right;\">\n",
       "      <th></th>\n",
       "      <th>Unnamed: 0</th>\n",
       "      <th>count</th>\n",
       "      <th>hate_speech</th>\n",
       "      <th>offensive_language</th>\n",
       "      <th>neither</th>\n",
       "      <th>class</th>\n",
       "      <th>tweet</th>\n",
       "    </tr>\n",
       "  </thead>\n",
       "  <tbody>\n",
       "    <tr>\n",
       "      <th>0</th>\n",
       "      <td>0</td>\n",
       "      <td>3</td>\n",
       "      <td>0</td>\n",
       "      <td>0</td>\n",
       "      <td>3</td>\n",
       "      <td>2</td>\n",
       "      <td>!!! RT @mayasolovely: As a woman you shouldn't...</td>\n",
       "    </tr>\n",
       "    <tr>\n",
       "      <th>1</th>\n",
       "      <td>1</td>\n",
       "      <td>3</td>\n",
       "      <td>0</td>\n",
       "      <td>3</td>\n",
       "      <td>0</td>\n",
       "      <td>1</td>\n",
       "      <td>!!!!! RT @mleew17: boy dats cold...tyga dwn ba...</td>\n",
       "    </tr>\n",
       "    <tr>\n",
       "      <th>2</th>\n",
       "      <td>2</td>\n",
       "      <td>3</td>\n",
       "      <td>0</td>\n",
       "      <td>3</td>\n",
       "      <td>0</td>\n",
       "      <td>1</td>\n",
       "      <td>!!!!!!! RT @UrKindOfBrand Dawg!!!! RT @80sbaby...</td>\n",
       "    </tr>\n",
       "    <tr>\n",
       "      <th>3</th>\n",
       "      <td>3</td>\n",
       "      <td>3</td>\n",
       "      <td>0</td>\n",
       "      <td>2</td>\n",
       "      <td>1</td>\n",
       "      <td>1</td>\n",
       "      <td>!!!!!!!!! RT @C_G_Anderson: @viva_based she lo...</td>\n",
       "    </tr>\n",
       "    <tr>\n",
       "      <th>4</th>\n",
       "      <td>4</td>\n",
       "      <td>6</td>\n",
       "      <td>0</td>\n",
       "      <td>6</td>\n",
       "      <td>0</td>\n",
       "      <td>1</td>\n",
       "      <td>!!!!!!!!!!!!! RT @ShenikaRoberts: The shit you...</td>\n",
       "    </tr>\n",
       "    <tr>\n",
       "      <th>...</th>\n",
       "      <td>...</td>\n",
       "      <td>...</td>\n",
       "      <td>...</td>\n",
       "      <td>...</td>\n",
       "      <td>...</td>\n",
       "      <td>...</td>\n",
       "      <td>...</td>\n",
       "    </tr>\n",
       "    <tr>\n",
       "      <th>24778</th>\n",
       "      <td>25291</td>\n",
       "      <td>3</td>\n",
       "      <td>0</td>\n",
       "      <td>2</td>\n",
       "      <td>1</td>\n",
       "      <td>1</td>\n",
       "      <td>you's a muthaf***in lie &amp;#8220;@LifeAsKing: @2...</td>\n",
       "    </tr>\n",
       "    <tr>\n",
       "      <th>24779</th>\n",
       "      <td>25292</td>\n",
       "      <td>3</td>\n",
       "      <td>0</td>\n",
       "      <td>1</td>\n",
       "      <td>2</td>\n",
       "      <td>2</td>\n",
       "      <td>you've gone and broke the wrong heart baby, an...</td>\n",
       "    </tr>\n",
       "    <tr>\n",
       "      <th>24780</th>\n",
       "      <td>25294</td>\n",
       "      <td>3</td>\n",
       "      <td>0</td>\n",
       "      <td>3</td>\n",
       "      <td>0</td>\n",
       "      <td>1</td>\n",
       "      <td>young buck wanna eat!!.. dat nigguh like I ain...</td>\n",
       "    </tr>\n",
       "    <tr>\n",
       "      <th>24781</th>\n",
       "      <td>25295</td>\n",
       "      <td>6</td>\n",
       "      <td>0</td>\n",
       "      <td>6</td>\n",
       "      <td>0</td>\n",
       "      <td>1</td>\n",
       "      <td>youu got wild bitches tellin you lies</td>\n",
       "    </tr>\n",
       "    <tr>\n",
       "      <th>24782</th>\n",
       "      <td>25296</td>\n",
       "      <td>3</td>\n",
       "      <td>0</td>\n",
       "      <td>0</td>\n",
       "      <td>3</td>\n",
       "      <td>2</td>\n",
       "      <td>~~Ruffled | Ntac Eileen Dahlia - Beautiful col...</td>\n",
       "    </tr>\n",
       "  </tbody>\n",
       "</table>\n",
       "<p>24783 rows × 7 columns</p>\n",
       "</div>"
      ],
      "text/plain": [
       "       Unnamed: 0  count  hate_speech  offensive_language  neither  class  \\\n",
       "0               0      3            0                   0        3      2   \n",
       "1               1      3            0                   3        0      1   \n",
       "2               2      3            0                   3        0      1   \n",
       "3               3      3            0                   2        1      1   \n",
       "4               4      6            0                   6        0      1   \n",
       "...           ...    ...          ...                 ...      ...    ...   \n",
       "24778       25291      3            0                   2        1      1   \n",
       "24779       25292      3            0                   1        2      2   \n",
       "24780       25294      3            0                   3        0      1   \n",
       "24781       25295      6            0                   6        0      1   \n",
       "24782       25296      3            0                   0        3      2   \n",
       "\n",
       "                                                   tweet  \n",
       "0      !!! RT @mayasolovely: As a woman you shouldn't...  \n",
       "1      !!!!! RT @mleew17: boy dats cold...tyga dwn ba...  \n",
       "2      !!!!!!! RT @UrKindOfBrand Dawg!!!! RT @80sbaby...  \n",
       "3      !!!!!!!!! RT @C_G_Anderson: @viva_based she lo...  \n",
       "4      !!!!!!!!!!!!! RT @ShenikaRoberts: The shit you...  \n",
       "...                                                  ...  \n",
       "24778  you's a muthaf***in lie &#8220;@LifeAsKing: @2...  \n",
       "24779  you've gone and broke the wrong heart baby, an...  \n",
       "24780  young buck wanna eat!!.. dat nigguh like I ain...  \n",
       "24781              youu got wild bitches tellin you lies  \n",
       "24782  ~~Ruffled | Ntac Eileen Dahlia - Beautiful col...  \n",
       "\n",
       "[24783 rows x 7 columns]"
      ]
     },
     "execution_count": 46,
     "metadata": {},
     "output_type": "execute_result"
    }
   ],
   "source": [
    "df"
   ]
  },
  {
   "cell_type": "code",
   "execution_count": 49,
   "metadata": {},
   "outputs": [
    {
     "name": "stdout",
     "output_type": "stream",
     "text": [
      "Loading in comments...\n"
     ]
    }
   ],
   "source": [
    "# prepare text samples and their labels\n",
    "print('Loading in comments...')\n",
    "\n",
    "sentences = df_copied[\"tweet\"].fillna(\"DUMMY_VALUE\").values\n",
    "possible_labels = [\"hate_speech\",\"offensive_language\",\"neither\"]\n",
    "targets = df[possible_labels].values"
   ]
  },
  {
   "cell_type": "code",
   "execution_count": 50,
   "metadata": {},
   "outputs": [],
   "source": [
    "# convert the sentences (strings) into integers\n",
    "tokenizer = Tokenizer(num_words=MAX_VOCAB_SIZE)\n",
    "tokenizer.fit_on_texts(sentences)\n",
    "sequences = tokenizer.texts_to_sequences(sentences)"
   ]
  },
  {
   "cell_type": "code",
   "execution_count": 51,
   "metadata": {},
   "outputs": [
    {
     "name": "stdout",
     "output_type": "stream",
     "text": [
      "max sequence length: 85\n",
      "min sequence length: 1\n",
      "median sequence length: 14\n",
      "max word index: 19999\n"
     ]
    }
   ],
   "source": [
    "print(\"max sequence length:\", max(len(s) for s in sequences))\n",
    "print(\"min sequence length:\", min(len(s) for s in sequences))\n",
    "s = sorted(len(s) for s in sequences)\n",
    "print(\"median sequence length:\", s[len(s) // 2])\n",
    "\n",
    "print(\"max word index:\", max(max(seq) for seq in sequences if len(seq) > 0))"
   ]
  },
  {
   "cell_type": "code",
   "execution_count": 52,
   "metadata": {},
   "outputs": [
    {
     "name": "stdout",
     "output_type": "stream",
     "text": [
      "Found 36508 unique tokens.\n"
     ]
    }
   ],
   "source": [
    "\n",
    "# get word -> integer mapping\n",
    "word2idx = tokenizer.word_index\n",
    "print('Found %s unique tokens.' % len(word2idx))"
   ]
  },
  {
   "cell_type": "code",
   "execution_count": 53,
   "metadata": {},
   "outputs": [
    {
     "name": "stdout",
     "output_type": "stream",
     "text": [
      "Shape of data tensor: (24783, 100)\n"
     ]
    }
   ],
   "source": [
    "# pad sequences so that we get a N x T matrix\n",
    "data = pad_sequences(sequences, maxlen=MAX_SEQUENCE_LENGTH)\n",
    "print('Shape of data tensor:', data.shape)"
   ]
  },
  {
   "cell_type": "code",
   "execution_count": 18,
   "metadata": {},
   "outputs": [
    {
     "name": "stdout",
     "output_type": "stream",
     "text": [
      "Filling pre-trained embeddings...\n"
     ]
    }
   ],
   "source": [
    "print('Filling pre-trained embeddings...')\n",
    "num_words = min(MAX_VOCAB_SIZE, len(word2idx) + 1)\n",
    "embedding_matrix = np.zeros((num_words, EMBEDDING_DIM))\n",
    "for word, i in word2idx.items():\n",
    "    if i < MAX_VOCAB_SIZE:\n",
    "        embedding_vector = word2vec.get(word)\n",
    "        if embedding_vector is not None:\n",
    "            # words not found in embedding index will be all zeros.\n",
    "            embedding_matrix[i] = embedding_vector\n"
   ]
  },
  {
   "cell_type": "code",
   "execution_count": 46,
   "metadata": {},
   "outputs": [
    {
     "name": "stdout",
     "output_type": "stream",
     "text": [
      "Building model...\n"
     ]
    }
   ],
   "source": [
    "# load pre-trained word embeddings into an Embedding layer\n",
    "# note that we set trainable = False so as to keep the embeddings fixed\n",
    "embedding_layer = Embedding(\n",
    "  num_words,\n",
    "  EMBEDDING_DIM,\n",
    "  weights=[embedding_matrix],\n",
    "  input_length=MAX_SEQUENCE_LENGTH,\n",
    "  trainable=False\n",
    ")\n",
    "\n",
    "\n",
    "print('Building model...')\n",
    "\n",
    "# train a 1D convnet with global maxpooling\n",
    "input_ = Input(shape=(MAX_SEQUENCE_LENGTH,))\n",
    "x = embedding_layer(input_)\n",
    "x = Conv1D(128, 3, activation='relu')(x)\n",
    "x = MaxPooling1D(3)(x)\n",
    "x = Conv1D(128, 3, activation='relu')(x)\n",
    "x = MaxPooling1D(3)(x)\n",
    "x = Conv1D(128, 3, activation='relu')(x)\n",
    "x = GlobalMaxPooling1D()(x)\n",
    "x = Dense(128, activation='relu')(x)\n",
    "output = Dense(len(possible_labels), activation='sigmoid')(x)\n",
    "\n",
    "model = Model(input_, output)\n",
    "model.compile(\n",
    "  loss='binary_crossentropy',\n",
    "  optimizer='rmsprop',\n",
    "  metrics=['accuracy']\n",
    ")\n"
   ]
  },
  {
   "cell_type": "code",
   "execution_count": 31,
   "metadata": {},
   "outputs": [
    {
     "name": "stdout",
     "output_type": "stream",
     "text": [
      "Training model...\n",
      "Epoch 1/10\n",
      "155/155 [==============================] - 3s 17ms/step - loss: -1510192.8750 - accuracy: 0.7659 - val_loss: -7272532.5000 - val_accuracy: 0.7924\n",
      "Epoch 2/10\n",
      "155/155 [==============================] - 2s 13ms/step - loss: -44788516.0000 - accuracy: 0.7698 - val_loss: -116918872.0000 - val_accuracy: 0.7924\n",
      "Epoch 3/10\n",
      "155/155 [==============================] - 2s 13ms/step - loss: -324737024.0000 - accuracy: 0.7698 - val_loss: -648682944.0000 - val_accuracy: 0.7924\n",
      "Epoch 4/10\n",
      "155/155 [==============================] - 2s 13ms/step - loss: -1328986624.0000 - accuracy: 0.7698 - val_loss: -2274134784.0000 - val_accuracy: 0.7924\n",
      "Epoch 5/10\n",
      "155/155 [==============================] - 2s 13ms/step - loss: -3944234496.0000 - accuracy: 0.7698 - val_loss: -6130970624.0000 - val_accuracy: 0.7924\n",
      "Epoch 6/10\n",
      "155/155 [==============================] - 2s 13ms/step - loss: -9659655168.0000 - accuracy: 0.7698 - val_loss: -13969926144.0000 - val_accuracy: 0.7924\n",
      "Epoch 7/10\n",
      "155/155 [==============================] - 2s 13ms/step - loss: -20433876992.0000 - accuracy: 0.7698 - val_loss: -28161492992.0000 - val_accuracy: 0.7924\n",
      "Epoch 8/10\n",
      "155/155 [==============================] - 2s 13ms/step - loss: -39166046208.0000 - accuracy: 0.7698 - val_loss: -51940720640.0000 - val_accuracy: 0.7924\n",
      "Epoch 9/10\n",
      "155/155 [==============================] - 2s 13ms/step - loss: -69572411392.0000 - accuracy: 0.7698 - val_loss: -89639198720.0000 - val_accuracy: 0.7924\n",
      "Epoch 10/10\n",
      "155/155 [==============================] - 2s 13ms/step - loss: -116236304384.0000 - accuracy: 0.7698 - val_loss: -146429313024.0000 - val_accuracy: 0.7924\n"
     ]
    }
   ],
   "source": [
    "print('Training model...')\n",
    "r = model.fit(\n",
    "  data,\n",
    "  targets,\n",
    "  batch_size=BATCH_SIZE,\n",
    "  epochs=EPOCHS,\n",
    "  validation_split=VALIDATION_SPLIT\n",
    ")"
   ]
  },
  {
   "cell_type": "code",
   "execution_count": 32,
   "metadata": {},
   "outputs": [
    {
     "data": {
      "image/png": "[encoded data removed]",
      "text/plain": [
       "<Figure size 432x288 with 1 Axes>"
      ]
     },
     "metadata": {
      "needs_background": "light"
     },
     "output_type": "display_data"
    }
   ],
   "source": [
    "# plot some data\n",
    "plt.plot(r.history['loss'], label='loss')\n",
    "plt.plot(r.history['val_loss'], label='val_loss')\n",
    "plt.legend()\n",
    "plt.show()"
   ]
  },
  {
   "cell_type": "code",
   "execution_count": 33,
   "metadata": {},
   "outputs": [
    {
     "data": {
      "image/png": "[encoded data removed]",
      "text/plain": [
       "<Figure size 432x288 with 1 Axes>"
      ]
     },
     "metadata": {
      "needs_background": "light"
     },
     "output_type": "display_data"
    }
   ],
   "source": [
    "# accuracies\n",
    "plt.plot(r.history['accuracy'], label='acc')\n",
    "plt.plot(r.history['val_accuracy'], label='val_acc')\n",
    "plt.legend()\n",
    "plt.show()"
   ]
  },
  {
   "cell_type": "code",
   "execution_count": 34,
   "metadata": {},
   "outputs": [],
   "source": [
    "input_ = Input(shape=(MAX_SEQUENCE_LENGTH,))\n",
    "x = embedding_layer(input_)\n",
    "x = LSTM(15, return_sequences = True)(x)\n",
    "x = GlobalMaxPooling1D()(x)\n",
    "x = Dense(128, activation='relu')(x)\n",
    "output = Dense(len(possible_labels), activation='sigmoid')(x)\n",
    "\n",
    "model = Model(input_, output)\n",
    "model.compile(\n",
    "  loss='binary_crossentropy',\n",
    "  optimizer=Adam(lr = 0.01),\n",
    "  metrics=['accuracy']\n",
    ")"
   ]
  },
  {
   "cell_type": "code",
   "execution_count": 35,
   "metadata": {},
   "outputs": [
    {
     "name": "stdout",
     "output_type": "stream",
     "text": [
      "Training model...\n",
      "Epoch 1/10\n",
      "155/155 [==============================] - 2s 12ms/step - loss: -614.8853 - accuracy: 0.7656 - val_loss: -2147.6067 - val_accuracy: 0.7924\n",
      "Epoch 2/10\n",
      "155/155 [==============================] - 1s 9ms/step - loss: -5145.1333 - accuracy: 0.7698 - val_loss: -9669.6836 - val_accuracy: 0.7924\n",
      "Epoch 3/10\n",
      "155/155 [==============================] - 1s 9ms/step - loss: -14784.3691 - accuracy: 0.7698 - val_loss: -22476.3770 - val_accuracy: 0.7924\n",
      "Epoch 4/10\n",
      "155/155 [==============================] - 1s 9ms/step - loss: -29274.7930 - accuracy: 0.7698 - val_loss: -40202.9883 - val_accuracy: 0.7924\n",
      "Epoch 5/10\n",
      "155/155 [==============================] - 1s 9ms/step - loss: -48287.0938 - accuracy: 0.7698 - val_loss: -62540.2852 - val_accuracy: 0.7924\n",
      "Epoch 6/10\n",
      "155/155 [==============================] - 1s 9ms/step - loss: -71557.3438 - accuracy: 0.7698 - val_loss: -89220.0625 - val_accuracy: 0.7924\n",
      "Epoch 7/10\n",
      "155/155 [==============================] - 1s 9ms/step - loss: -98823.8750 - accuracy: 0.7698 - val_loss: -120059.2969 - val_accuracy: 0.7924\n",
      "Epoch 8/10\n",
      "155/155 [==============================] - 1s 9ms/step - loss: -129901.2500 - accuracy: 0.7698 - val_loss: -154793.0938 - val_accuracy: 0.7924\n",
      "Epoch 9/10\n",
      "155/155 [==============================] - 1s 9ms/step - loss: -164659.1250 - accuracy: 0.7698 - val_loss: -193372.1875 - val_accuracy: 0.7924\n",
      "Epoch 10/10\n",
      "155/155 [==============================] - 1s 9ms/step - loss: -202867.7031 - accuracy: 0.7698 - val_loss: -235418.0000 - val_accuracy: 0.7924\n"
     ]
    }
   ],
   "source": [
    "print('Training model...')\n",
    "r = model.fit(\n",
    "  data,\n",
    "  targets,\n",
    "  batch_size=BATCH_SIZE,\n",
    "  epochs=EPOCHS,\n",
    "  validation_split=VALIDATION_SPLIT\n",
    ")"
   ]
  },
  {
   "cell_type": "code",
   "execution_count": 36,
   "metadata": {},
   "outputs": [],
   "source": [
    "input_ = Input(shape=(MAX_SEQUENCE_LENGTH,))\n",
    "x = embedding_layer(input_)\n",
    "x = Bidirectional(LSTM(15, return_sequences=True))(x)\n",
    "x = GlobalMaxPooling1D()(x)\n",
    "x = Dense(128, activation='relu')(x)\n",
    "output = Dense(len(possible_labels), activation='sigmoid')(x)\n",
    "\n",
    "model = Model(input_, output)\n",
    "model.compile(\n",
    "  loss='binary_crossentropy',\n",
    "  optimizer=Adam(lr = 0.01),\n",
    "  metrics=['accuracy']\n",
    ")"
   ]
  },
  {
   "cell_type": "code",
   "execution_count": 37,
   "metadata": {},
   "outputs": [
    {
     "name": "stdout",
     "output_type": "stream",
     "text": [
      "Training model...\n",
      "Epoch 1/10\n",
      "155/155 [==============================] - 3s 18ms/step - loss: -1462.3429 - accuracy: 0.7653 - val_loss: -5147.9272 - val_accuracy: 0.7924\n",
      "Epoch 2/10\n",
      "155/155 [==============================] - 2s 13ms/step - loss: -12361.5361 - accuracy: 0.7698 - val_loss: -23291.7305 - val_accuracy: 0.7924\n",
      "Epoch 3/10\n",
      "155/155 [==============================] - 2s 13ms/step - loss: -35533.1719 - accuracy: 0.7698 - val_loss: -54050.5977 - val_accuracy: 0.7924\n",
      "Epoch 4/10\n",
      "155/155 [==============================] - 2s 13ms/step - loss: -70285.4141 - accuracy: 0.7698 - val_loss: -96515.5156 - val_accuracy: 0.7924\n",
      "Epoch 5/10\n",
      "155/155 [==============================] - 2s 13ms/step - loss: -115811.0000 - accuracy: 0.7698 - val_loss: -150071.3594 - val_accuracy: 0.7924\n",
      "Epoch 6/10\n",
      "155/155 [==============================] - 2s 14ms/step - loss: -171489.7344 - accuracy: 0.7698 - val_loss: -214032.6094 - val_accuracy: 0.7924\n",
      "Epoch 7/10\n",
      "155/155 [==============================] - 2s 13ms/step - loss: -236829.5625 - accuracy: 0.7698 - val_loss: -287992.5000 - val_accuracy: 0.7924\n",
      "Epoch 8/10\n",
      "155/155 [==============================] - 2s 13ms/step - loss: -311368.1875 - accuracy: 0.7698 - val_loss: -371132.5938 - val_accuracy: 0.7924\n",
      "Epoch 9/10\n",
      "155/155 [==============================] - 2s 13ms/step - loss: -394549.5312 - accuracy: 0.7698 - val_loss: -463517.2500 - val_accuracy: 0.7924\n",
      "Epoch 10/10\n",
      "155/155 [==============================] - 2s 14ms/step - loss: -486119.9688 - accuracy: 0.7698 - val_loss: -564575.3750 - val_accuracy: 0.7924\n"
     ]
    }
   ],
   "source": [
    "print('Training model...')\n",
    "r = model.fit(\n",
    "  data,\n",
    "  targets,\n",
    "  batch_size=BATCH_SIZE,\n",
    "  epochs=EPOCHS,\n",
    "  validation_split=VALIDATION_SPLIT\n",
    ")"
   ]
  },
  {
   "cell_type": "code",
   "execution_count": 38,
   "metadata": {},
   "outputs": [],
   "source": [
    "MAX_SEQUENCE_LENGTH = 100\n",
    "MAX_VOCAB_SIZE = 20000\n",
    "EMBEDDING_DIM = 300\n",
    "VALIDATION_SPLIT = 0.2\n",
    "BATCH_SIZE = 128\n",
    "EPOCHS = 10"
   ]
  },
  {
   "cell_type": "code",
   "execution_count": 47,
   "metadata": {},
   "outputs": [
    {
     "name": "stdout",
     "output_type": "stream",
     "text": [
      "Training model...\n",
      "Epoch 1/10\n",
      "155/155 [==============================] - 3s 19ms/step - loss: -2334484.0000 - accuracy: 0.7686 - val_loss: -11195569.0000 - val_accuracy: 0.7924\n",
      "Epoch 2/10\n",
      "155/155 [==============================] - 3s 18ms/step - loss: -67258560.0000 - accuracy: 0.7698 - val_loss: -174333280.0000 - val_accuracy: 0.7924\n",
      "Epoch 3/10\n",
      "155/155 [==============================] - 3s 18ms/step - loss: -481243232.0000 - accuracy: 0.7698 - val_loss: -953166976.0000 - val_accuracy: 0.7924\n",
      "Epoch 4/10\n",
      "155/155 [==============================] - 3s 18ms/step - loss: -1944119808.0000 - accuracy: 0.7698 - val_loss: -3297805056.0000 - val_accuracy: 0.7924\n",
      "Epoch 5/10\n",
      "155/155 [==============================] - 3s 19ms/step - loss: -5745910272.0000 - accuracy: 0.7698 - val_loss: -8861417472.0000 - val_accuracy: 0.7924\n",
      "Epoch 6/10\n",
      "155/155 [==============================] - 3s 19ms/step - loss: -13854026752.0000 - accuracy: 0.7698 - val_loss: -20013641728.0000 - val_accuracy: 0.7924\n",
      "Epoch 7/10\n",
      "155/155 [==============================] - 3s 18ms/step - loss: -29407471616.0000 - accuracy: 0.7698 - val_loss: -40307814400.0000 - val_accuracy: 0.7924\n",
      "Epoch 8/10\n",
      "155/155 [==============================] - 3s 18ms/step - loss: -56230281216.0000 - accuracy: 0.7698 - val_loss: -74303365120.0000 - val_accuracy: 0.7924\n",
      "Epoch 9/10\n",
      "155/155 [==============================] - 3s 19ms/step - loss: -99509125120.0000 - accuracy: 0.7698 - val_loss: -127731671040.0000 - val_accuracy: 0.7924\n",
      "Epoch 10/10\n",
      "155/155 [==============================] - 3s 19ms/step - loss: -166495371264.0000 - accuracy: 0.7698 - val_loss: -208279945216.0000 - val_accuracy: 0.7924\n"
     ]
    }
   ],
   "source": [
    "print('Training model...')\n",
    "r = model.fit(\n",
    "  data,\n",
    "  targets,\n",
    "  batch_size=BATCH_SIZE,\n",
    "  epochs=EPOCHS,\n",
    "  validation_split=VALIDATION_SPLIT\n",
    ")"
   ]
  },
  {
   "cell_type": "code",
   "execution_count": 51,
   "metadata": {},
   "outputs": [],
   "source": [
    "input_ = Input(shape=(MAX_SEQUENCE_LENGTH,))\n",
    "x = embedding_layer(input_)\n",
    "x = Conv1D(128,3,padding = 'same', activation = 'relu')(x)\n",
    "x = Dropout(0.7)(x)\n",
    "x = MaxPooling1D()(x)\n",
    "x = LSTM(10)(x)\n",
    "x = Dense(128, activation='relu')(x)\n",
    "output = Dense(len(possible_labels), activation='sigmoid')(x)\n",
    "\n",
    "model = Model(input_, output)\n",
    "model.compile(\n",
    "  loss='binary_crossentropy',\n",
    "  optimizer=Adam(lr = 0.01),\n",
    "  metrics=['accuracy']\n",
    ")"
   ]
  },
  {
   "cell_type": "code",
   "execution_count": 52,
   "metadata": {},
   "outputs": [
    {
     "name": "stdout",
     "output_type": "stream",
     "text": [
      "Training model...\n",
      "Epoch 1/10\n",
      "155/155 [==============================] - 3s 22ms/step - loss: -528.1242 - accuracy: 0.7649 - val_loss: -1875.2336 - val_accuracy: 0.7924\n",
      "Epoch 2/10\n",
      "155/155 [==============================] - 3s 19ms/step - loss: -4533.6040 - accuracy: 0.7698 - val_loss: -8535.2031 - val_accuracy: 0.7924\n",
      "Epoch 3/10\n",
      "155/155 [==============================] - 3s 19ms/step - loss: -13023.6133 - accuracy: 0.7698 - val_loss: -19813.9980 - val_accuracy: 0.7924\n",
      "Epoch 4/10\n",
      "155/155 [==============================] - 3s 19ms/step - loss: -25728.1133 - accuracy: 0.7698 - val_loss: -35342.4805 - val_accuracy: 0.7924\n",
      "Epoch 5/10\n",
      "155/155 [==============================] - 3s 18ms/step - loss: -42399.8086 - accuracy: 0.7698 - val_loss: -54990.3359 - val_accuracy: 0.7924\n",
      "Epoch 6/10\n",
      "155/155 [==============================] - 3s 18ms/step - loss: -62823.2734 - accuracy: 0.7698 - val_loss: -78534.0547 - val_accuracy: 0.7924\n",
      "Epoch 7/10\n",
      "155/155 [==============================] - 3s 19ms/step - loss: -86791.7344 - accuracy: 0.7698 - val_loss: -105549.4219 - val_accuracy: 0.7924\n",
      "Epoch 8/10\n",
      "155/155 [==============================] - 3s 18ms/step - loss: -114116.3359 - accuracy: 0.7698 - val_loss: -136225.5625 - val_accuracy: 0.7924\n",
      "Epoch 9/10\n",
      "155/155 [==============================] - 3s 19ms/step - loss: -144645.7812 - accuracy: 0.7698 - val_loss: -170154.4688 - val_accuracy: 0.7924\n",
      "Epoch 10/10\n",
      "155/155 [==============================] - 3s 18ms/step - loss: -178236.5781 - accuracy: 0.7698 - val_loss: -207200.4531 - val_accuracy: 0.7924\n"
     ]
    }
   ],
   "source": [
    "print('Training model...')\n",
    "r = model.fit(\n",
    "  data,\n",
    "  targets,\n",
    "  batch_size=BATCH_SIZE,\n",
    "  epochs=EPOCHS,\n",
    "  validation_split=VALIDATION_SPLIT\n",
    ")"
   ]
  },
  {
   "cell_type": "markdown",
   "metadata": {},
   "source": [
    "# Something else than word embedding"
   ]
  },
  {
   "cell_type": "code",
   "execution_count": 9,
   "metadata": {},
   "outputs": [
    {
     "name": "stderr",
     "output_type": "stream",
     "text": [
      "Using TensorFlow backend.\n"
     ]
    }
   ],
   "source": [
    "from nltk.tokenize import word_tokenize\n",
    "from nltk.corpus import stopwords\n",
    "from nltk.stem.porter import PorterStemmer\n",
    "from keras.preprocessing import sequence\n",
    "from keras.preprocessing.text import Tokenizer\n",
    "from nltk import sent_tokenize"
   ]
  },
  {
   "cell_type": "code",
   "execution_count": 24,
   "metadata": {},
   "outputs": [],
   "source": [
    "comment_example = df['tweet'][20003]"
   ]
  },
  {
   "cell_type": "code",
   "execution_count": 12,
   "metadata": {},
   "outputs": [],
   "source": [
    "sentences = sent_tokenize(comment_example)"
   ]
  },
  {
   "cell_type": "code",
   "execution_count": 17,
   "metadata": {},
   "outputs": [],
   "source": [
    "tokens = word_tokenize(comment_example)"
   ]
  },
  {
   "cell_type": "code",
   "execution_count": 18,
   "metadata": {},
   "outputs": [
    {
     "data": {
      "text/plain": [
       "['RT',\n",
       " '@',\n",
       " 'shantybear',\n",
       " ':',\n",
       " 'bitch',\n",
       " 'do',\n",
       " 'I',\n",
       " 'entertain',\n",
       " 'you',\n",
       " '?',\n",
       " 'Cause',\n",
       " 'you',\n",
       " 'always',\n",
       " 'seem',\n",
       " 'to',\n",
       " 'be',\n",
       " 'in',\n",
       " 'my',\n",
       " 'business']"
      ]
     },
     "execution_count": 18,
     "metadata": {},
     "output_type": "execute_result"
    }
   ],
   "source": [
    "tokens"
   ]
  },
  {
   "cell_type": "code",
   "execution_count": 19,
   "metadata": {},
   "outputs": [],
   "source": [
    "words = [word for word in tokens if word.isalpha()]"
   ]
  },
  {
   "cell_type": "code",
   "execution_count": 20,
   "metadata": {},
   "outputs": [
    {
     "data": {
      "text/plain": [
       "['RT',\n",
       " 'shantybear',\n",
       " 'bitch',\n",
       " 'do',\n",
       " 'I',\n",
       " 'entertain',\n",
       " 'you',\n",
       " 'Cause',\n",
       " 'you',\n",
       " 'always',\n",
       " 'seem',\n",
       " 'to',\n",
       " 'be',\n",
       " 'in',\n",
       " 'my',\n",
       " 'business']"
      ]
     },
     "execution_count": 20,
     "metadata": {},
     "output_type": "execute_result"
    }
   ],
   "source": [
    "words"
   ]
  },
  {
   "cell_type": "code",
   "execution_count": 7,
   "metadata": {},
   "outputs": [],
   "source": [
    "from nltk.corpus import stopwords"
   ]
  },
  {
   "cell_type": "code",
   "execution_count": 8,
   "metadata": {},
   "outputs": [],
   "source": [
    "stop_words = stopwords.words('english')"
   ]
  },
  {
   "cell_type": "code",
   "execution_count": 23,
   "metadata": {},
   "outputs": [
    {
     "data": {
      "text/plain": [
       "['i',\n",
       " 'me',\n",
       " 'my',\n",
       " 'myself',\n",
       " 'we',\n",
       " 'our',\n",
       " 'ours',\n",
       " 'ourselves',\n",
       " 'you',\n",
       " \"you're\",\n",
       " \"you've\",\n",
       " \"you'll\",\n",
       " \"you'd\",\n",
       " 'your',\n",
       " 'yours',\n",
       " 'yourself',\n",
       " 'yourselves',\n",
       " 'he',\n",
       " 'him',\n",
       " 'his',\n",
       " 'himself',\n",
       " 'she',\n",
       " \"she's\",\n",
       " 'her',\n",
       " 'hers',\n",
       " 'herself',\n",
       " 'it',\n",
       " \"it's\",\n",
       " 'its',\n",
       " 'itself',\n",
       " 'they',\n",
       " 'them',\n",
       " 'their',\n",
       " 'theirs',\n",
       " 'themselves',\n",
       " 'what',\n",
       " 'which',\n",
       " 'who',\n",
       " 'whom',\n",
       " 'this',\n",
       " 'that',\n",
       " \"that'll\",\n",
       " 'these',\n",
       " 'those',\n",
       " 'am',\n",
       " 'is',\n",
       " 'are',\n",
       " 'was',\n",
       " 'were',\n",
       " 'be',\n",
       " 'been',\n",
       " 'being',\n",
       " 'have',\n",
       " 'has',\n",
       " 'had',\n",
       " 'having',\n",
       " 'do',\n",
       " 'does',\n",
       " 'did',\n",
       " 'doing',\n",
       " 'a',\n",
       " 'an',\n",
       " 'the',\n",
       " 'and',\n",
       " 'but',\n",
       " 'if',\n",
       " 'or',\n",
       " 'because',\n",
       " 'as',\n",
       " 'until',\n",
       " 'while',\n",
       " 'of',\n",
       " 'at',\n",
       " 'by',\n",
       " 'for',\n",
       " 'with',\n",
       " 'about',\n",
       " 'against',\n",
       " 'between',\n",
       " 'into',\n",
       " 'through',\n",
       " 'during',\n",
       " 'before',\n",
       " 'after',\n",
       " 'above',\n",
       " 'below',\n",
       " 'to',\n",
       " 'from',\n",
       " 'up',\n",
       " 'down',\n",
       " 'in',\n",
       " 'out',\n",
       " 'on',\n",
       " 'off',\n",
       " 'over',\n",
       " 'under',\n",
       " 'again',\n",
       " 'further',\n",
       " 'then',\n",
       " 'once',\n",
       " 'here',\n",
       " 'there',\n",
       " 'when',\n",
       " 'where',\n",
       " 'why',\n",
       " 'how',\n",
       " 'all',\n",
       " 'any',\n",
       " 'both',\n",
       " 'each',\n",
       " 'few',\n",
       " 'more',\n",
       " 'most',\n",
       " 'other',\n",
       " 'some',\n",
       " 'such',\n",
       " 'no',\n",
       " 'nor',\n",
       " 'not',\n",
       " 'only',\n",
       " 'own',\n",
       " 'same',\n",
       " 'so',\n",
       " 'than',\n",
       " 'too',\n",
       " 'very',\n",
       " 's',\n",
       " 't',\n",
       " 'can',\n",
       " 'will',\n",
       " 'just',\n",
       " 'don',\n",
       " \"don't\",\n",
       " 'should',\n",
       " \"should've\",\n",
       " 'now',\n",
       " 'd',\n",
       " 'll',\n",
       " 'm',\n",
       " 'o',\n",
       " 're',\n",
       " 've',\n",
       " 'y',\n",
       " 'ain',\n",
       " 'aren',\n",
       " \"aren't\",\n",
       " 'couldn',\n",
       " \"couldn't\",\n",
       " 'didn',\n",
       " \"didn't\",\n",
       " 'doesn',\n",
       " \"doesn't\",\n",
       " 'hadn',\n",
       " \"hadn't\",\n",
       " 'hasn',\n",
       " \"hasn't\",\n",
       " 'haven',\n",
       " \"haven't\",\n",
       " 'isn',\n",
       " \"isn't\",\n",
       " 'ma',\n",
       " 'mightn',\n",
       " \"mightn't\",\n",
       " 'mustn',\n",
       " \"mustn't\",\n",
       " 'needn',\n",
       " \"needn't\",\n",
       " 'shan',\n",
       " \"shan't\",\n",
       " 'shouldn',\n",
       " \"shouldn't\",\n",
       " 'wasn',\n",
       " \"wasn't\",\n",
       " 'weren',\n",
       " \"weren't\",\n",
       " 'won',\n",
       " \"won't\",\n",
       " 'wouldn',\n",
       " \"wouldn't\"]"
      ]
     },
     "execution_count": 23,
     "metadata": {},
     "output_type": "execute_result"
    }
   ],
   "source": [
    "stop_words"
   ]
  },
  {
   "cell_type": "code",
   "execution_count": 26,
   "metadata": {},
   "outputs": [
    {
     "data": {
      "text/plain": [
       "['RT',\n",
       " 'shantybear',\n",
       " 'bitch',\n",
       " 'I',\n",
       " 'entertain',\n",
       " 'Cause',\n",
       " 'always',\n",
       " 'seem',\n",
       " 'business']"
      ]
     },
     "execution_count": 26,
     "metadata": {},
     "output_type": "execute_result"
    }
   ],
   "source": [
    "#split into words\n",
    "tokens = word_tokenize(comment_example)\n",
    "#convert to lower case\n",
    "tokens = [w.lower() for w in tokens]\n",
    "#remove punctuation from each word\n",
    "import string\n",
    "table = str.maketrans('','', string.punctuation)\n",
    "stripped = [w.translate(table) for w in tokens]\n",
    "#remove remaining tokens that are not alphabetic\n",
    "word = [word for word in stripped if word.isalpha()]\n",
    "#filter out stop words\n",
    "words = [w for w in words if not w in stop_words]\n",
    "words\n"
   ]
  },
  {
   "cell_type": "code",
   "execution_count": 27,
   "metadata": {},
   "outputs": [],
   "source": [
    "tokens = [w.lower() for w in words]"
   ]
  },
  {
   "cell_type": "code",
   "execution_count": 40,
   "metadata": {},
   "outputs": [
    {
     "data": {
      "text/plain": [
       "['bitch', 'i', 'entertain', 'cause', 'always', 'seem', 'business']"
      ]
     },
     "execution_count": 40,
     "metadata": {},
     "output_type": "execute_result"
    }
   ],
   "source": [
    "tokens[2:]"
   ]
  },
  {
   "cell_type": "code",
   "execution_count": 38,
   "metadata": {},
   "outputs": [
    {
     "data": {
      "text/plain": [
       "'!!!!! RT @mleew17: boy dats cold...tyga dwn bad for cuffin dat hoe in the 1st place!!'"
      ]
     },
     "execution_count": 38,
     "metadata": {},
     "output_type": "execute_result"
    }
   ],
   "source": [
    "df['tweet'][1]"
   ]
  },
  {
   "cell_type": "code",
   "execution_count": 10,
   "metadata": {},
   "outputs": [],
   "source": [
    "import string\n",
    "#for all the dataset\n",
    "def listToString(s):  \n",
    "    \n",
    "    # initialize an empty string \n",
    "    str1 = \"\"  \n",
    "    \n",
    "    # traverse in the string   \n",
    "    for ele in s:  \n",
    "        str1 = str1+ ele +' '   \n",
    "    \n",
    "    # return string   \n",
    "    return str1  \n",
    "        \n",
    "        \n",
    "\n",
    "\n",
    "\n",
    "\n",
    "\n",
    "df_copied = df.copy()\n",
    "wrd_vec = []\n",
    "for i in range(len(df_copied)):\n",
    "    rt = 0\n",
    "    ar = 0\n",
    "    comment = df['tweet'][i]\n",
    "\n",
    "    if 'RT' in comment:\n",
    "        rt=1\n",
    "    if '@' in comment:\n",
    "        ar = 1\n",
    "    \n",
    "    tokens = word_tokenize(comment)\n",
    "    tokens = [w.lower() for w in tokens]\n",
    "    table = str.maketrans('','', string.punctuation)\n",
    "    stripped = [w.translate(table) for w in tokens]\n",
    "    #remove remaining tokens that are not alphabetic\n",
    "    word = [word for word in stripped if word.isalpha()]\n",
    "    #filter out stop words\n",
    "    words = [w for w in word if not w in stop_words]\n",
    "    words = [w.lower() for w in words]\n",
    "    if rt == 1:\n",
    "        words = words[2:]\n",
    "    elif ar == 1:\n",
    "        words = words[1:]\n",
    "    \n",
    "    words = listToString(words)\n",
    "    wrd_vec.append(words)\n",
    "    \n",
    "\n",
    "    "
   ]
  },
  {
   "cell_type": "code",
   "execution_count": 11,
   "metadata": {},
   "outputs": [],
   "source": [
    "df_copied['new_comm'] = wrd_vec"
   ]
  },
  {
   "cell_type": "code",
   "execution_count": 56,
   "metadata": {},
   "outputs": [
    {
     "data": {
      "text/plain": [
       "'woman nt complain cleaning house amp man always take trash '"
      ]
     },
     "execution_count": 56,
     "metadata": {},
     "output_type": "execute_result"
    }
   ],
   "source": [
    "df_copied['new_comm'][0][:]"
   ]
  },
  {
   "cell_type": "code",
   "execution_count": 99,
   "metadata": {},
   "outputs": [
    {
     "data": {
      "text/html": [
       "<div>\n",
       "<style scoped>\n",
       "    .dataframe tbody tr th:only-of-type {\n",
       "        vertical-align: middle;\n",
       "    }\n",
       "\n",
       "    .dataframe tbody tr th {\n",
       "        vertical-align: top;\n",
       "    }\n",
       "\n",
       "    .dataframe thead th {\n",
       "        text-align: right;\n",
       "    }\n",
       "</style>\n",
       "<table border=\"1\" class=\"dataframe\">\n",
       "  <thead>\n",
       "    <tr style=\"text-align: right;\">\n",
       "      <th></th>\n",
       "      <th>Unnamed: 0</th>\n",
       "      <th>count</th>\n",
       "      <th>hate_speech</th>\n",
       "      <th>offensive_language</th>\n",
       "      <th>neither</th>\n",
       "      <th>class</th>\n",
       "      <th>tweet</th>\n",
       "      <th>new_comm</th>\n",
       "    </tr>\n",
       "  </thead>\n",
       "  <tbody>\n",
       "    <tr>\n",
       "      <th>0</th>\n",
       "      <td>0</td>\n",
       "      <td>3</td>\n",
       "      <td>0</td>\n",
       "      <td>0</td>\n",
       "      <td>3</td>\n",
       "      <td>2</td>\n",
       "      <td>!!! RT @mayasolovely: As a woman you shouldn't...</td>\n",
       "      <td>woman nt complain cleaning house amp man alway...</td>\n",
       "    </tr>\n",
       "    <tr>\n",
       "      <th>1</th>\n",
       "      <td>1</td>\n",
       "      <td>3</td>\n",
       "      <td>0</td>\n",
       "      <td>3</td>\n",
       "      <td>0</td>\n",
       "      <td>1</td>\n",
       "      <td>!!!!! RT @mleew17: boy dats cold...tyga dwn ba...</td>\n",
       "      <td>dats cold tyga dwn bad cuffin dat hoe place</td>\n",
       "    </tr>\n",
       "    <tr>\n",
       "      <th>2</th>\n",
       "      <td>2</td>\n",
       "      <td>3</td>\n",
       "      <td>0</td>\n",
       "      <td>3</td>\n",
       "      <td>0</td>\n",
       "      <td>1</td>\n",
       "      <td>!!!!!!! RT @UrKindOfBrand Dawg!!!! RT @80sbaby...</td>\n",
       "      <td>dawg rt ever fuck bitch start cry confused shit</td>\n",
       "    </tr>\n",
       "    <tr>\n",
       "      <th>3</th>\n",
       "      <td>3</td>\n",
       "      <td>3</td>\n",
       "      <td>0</td>\n",
       "      <td>2</td>\n",
       "      <td>1</td>\n",
       "      <td>1</td>\n",
       "      <td>!!!!!!!!! RT @C_G_Anderson: @viva_based she lo...</td>\n",
       "      <td>vivabased look like tranny</td>\n",
       "    </tr>\n",
       "    <tr>\n",
       "      <th>4</th>\n",
       "      <td>4</td>\n",
       "      <td>6</td>\n",
       "      <td>0</td>\n",
       "      <td>6</td>\n",
       "      <td>0</td>\n",
       "      <td>1</td>\n",
       "      <td>!!!!!!!!!!!!! RT @ShenikaRoberts: The shit you...</td>\n",
       "      <td>shit hear might true might faker bitch told ya</td>\n",
       "    </tr>\n",
       "    <tr>\n",
       "      <th>...</th>\n",
       "      <td>...</td>\n",
       "      <td>...</td>\n",
       "      <td>...</td>\n",
       "      <td>...</td>\n",
       "      <td>...</td>\n",
       "      <td>...</td>\n",
       "      <td>...</td>\n",
       "      <td>...</td>\n",
       "    </tr>\n",
       "    <tr>\n",
       "      <th>24778</th>\n",
       "      <td>25291</td>\n",
       "      <td>3</td>\n",
       "      <td>0</td>\n",
       "      <td>2</td>\n",
       "      <td>1</td>\n",
       "      <td>1</td>\n",
       "      <td>you's a muthaf***in lie &amp;#8220;@LifeAsKing: @2...</td>\n",
       "      <td>lie lifeasking coreyemanuel right tl trash min...</td>\n",
       "    </tr>\n",
       "    <tr>\n",
       "      <th>24779</th>\n",
       "      <td>25292</td>\n",
       "      <td>3</td>\n",
       "      <td>0</td>\n",
       "      <td>1</td>\n",
       "      <td>2</td>\n",
       "      <td>2</td>\n",
       "      <td>you've gone and broke the wrong heart baby, an...</td>\n",
       "      <td>gone broke wrong heart baby drove redneck crazy</td>\n",
       "    </tr>\n",
       "    <tr>\n",
       "      <th>24780</th>\n",
       "      <td>25294</td>\n",
       "      <td>3</td>\n",
       "      <td>0</td>\n",
       "      <td>3</td>\n",
       "      <td>0</td>\n",
       "      <td>1</td>\n",
       "      <td>young buck wanna eat!!.. dat nigguh like I ain...</td>\n",
       "      <td>young buck wan na eat dat nigguh like aint fuc...</td>\n",
       "    </tr>\n",
       "    <tr>\n",
       "      <th>24781</th>\n",
       "      <td>25295</td>\n",
       "      <td>6</td>\n",
       "      <td>0</td>\n",
       "      <td>6</td>\n",
       "      <td>0</td>\n",
       "      <td>1</td>\n",
       "      <td>youu got wild bitches tellin you lies</td>\n",
       "      <td>youu got wild bitches tellin lies</td>\n",
       "    </tr>\n",
       "    <tr>\n",
       "      <th>24782</th>\n",
       "      <td>25296</td>\n",
       "      <td>3</td>\n",
       "      <td>0</td>\n",
       "      <td>0</td>\n",
       "      <td>3</td>\n",
       "      <td>2</td>\n",
       "      <td>~~Ruffled | Ntac Eileen Dahlia - Beautiful col...</td>\n",
       "      <td>ruffled ntac eileen dahlia beautiful color com...</td>\n",
       "    </tr>\n",
       "  </tbody>\n",
       "</table>\n",
       "<p>24783 rows × 8 columns</p>\n",
       "</div>"
      ],
      "text/plain": [
       "       Unnamed: 0  count  hate_speech  offensive_language  neither  class  \\\n",
       "0               0      3            0                   0        3      2   \n",
       "1               1      3            0                   3        0      1   \n",
       "2               2      3            0                   3        0      1   \n",
       "3               3      3            0                   2        1      1   \n",
       "4               4      6            0                   6        0      1   \n",
       "...           ...    ...          ...                 ...      ...    ...   \n",
       "24778       25291      3            0                   2        1      1   \n",
       "24779       25292      3            0                   1        2      2   \n",
       "24780       25294      3            0                   3        0      1   \n",
       "24781       25295      6            0                   6        0      1   \n",
       "24782       25296      3            0                   0        3      2   \n",
       "\n",
       "                                                   tweet  \\\n",
       "0      !!! RT @mayasolovely: As a woman you shouldn't...   \n",
       "1      !!!!! RT @mleew17: boy dats cold...tyga dwn ba...   \n",
       "2      !!!!!!! RT @UrKindOfBrand Dawg!!!! RT @80sbaby...   \n",
       "3      !!!!!!!!! RT @C_G_Anderson: @viva_based she lo...   \n",
       "4      !!!!!!!!!!!!! RT @ShenikaRoberts: The shit you...   \n",
       "...                                                  ...   \n",
       "24778  you's a muthaf***in lie &#8220;@LifeAsKing: @2...   \n",
       "24779  you've gone and broke the wrong heart baby, an...   \n",
       "24780  young buck wanna eat!!.. dat nigguh like I ain...   \n",
       "24781              youu got wild bitches tellin you lies   \n",
       "24782  ~~Ruffled | Ntac Eileen Dahlia - Beautiful col...   \n",
       "\n",
       "                                                new_comm  \n",
       "0      woman nt complain cleaning house amp man alway...  \n",
       "1           dats cold tyga dwn bad cuffin dat hoe place   \n",
       "2       dawg rt ever fuck bitch start cry confused shit   \n",
       "3                            vivabased look like tranny   \n",
       "4        shit hear might true might faker bitch told ya   \n",
       "...                                                  ...  \n",
       "24778  lie lifeasking coreyemanuel right tl trash min...  \n",
       "24779   gone broke wrong heart baby drove redneck crazy   \n",
       "24780  young buck wan na eat dat nigguh like aint fuc...  \n",
       "24781                 youu got wild bitches tellin lies   \n",
       "24782  ruffled ntac eileen dahlia beautiful color com...  \n",
       "\n",
       "[24783 rows x 8 columns]"
      ]
     },
     "execution_count": 99,
     "metadata": {},
     "output_type": "execute_result"
    }
   ],
   "source": [
    "df_copied"
   ]
  },
  {
   "cell_type": "code",
   "execution_count": 111,
   "metadata": {},
   "outputs": [
    {
     "name": "stdout",
     "output_type": "stream",
     "text": [
      "Building model...\n"
     ]
    }
   ],
   "source": [
    "# load pre-trained word embeddings into an Embedding layer\n",
    "# note that we set trainable = False so as to keep the embeddings fixed\n",
    "embedding_layer = Embedding(\n",
    "  num_words,\n",
    "  EMBEDDING_DIM,\n",
    "  weights=[embedding_matrix],\n",
    "  input_length=MAX_SEQUENCE_LENGTH,\n",
    "  trainable=False\n",
    ")\n",
    "\n",
    "\n",
    "print('Building model...')\n",
    "\n",
    "# train a 1D convnet with global maxpooling\n",
    "input_ = Input(shape=(MAX_SEQUENCE_LENGTH,))\n",
    "x = embedding_layer(input_)\n",
    "x = Conv1D(128, 3, activation='relu')(x)\n",
    "x = MaxPooling1D(3)(x)\n",
    "x = Conv1D(128, 3, activation='relu')(x)\n",
    "x = MaxPooling1D(3)(x)\n",
    "x = Conv1D(128, 3, activation='relu')(x)\n",
    "x = GlobalMaxPooling1D()(x)\n",
    "x = Dense(128, activation='relu')(x)\n",
    "output = Dense(len(possible_labels), activation='sigmoid')(x)\n",
    "\n",
    "model = Model(input_, output)\n",
    "model.compile(\n",
    "  loss='binary_crossentropy',\n",
    "  optimizer='rmsprop',\n",
    "  metrics=['accuracy']\n",
    ")\n"
   ]
  },
  {
   "cell_type": "code",
   "execution_count": 112,
   "metadata": {},
   "outputs": [
    {
     "name": "stdout",
     "output_type": "stream",
     "text": [
      "Training model...\n",
      "Epoch 1/10\n",
      "155/155 [==============================] - 3s 16ms/step - loss: -383754.7188 - accuracy: 0.7651 - val_loss: -1847826.7500 - val_accuracy: 0.7924\n",
      "Epoch 2/10\n",
      "155/155 [==============================] - 2s 12ms/step - loss: -10827851.0000 - accuracy: 0.7698 - val_loss: -28591412.0000 - val_accuracy: 0.7924\n",
      "Epoch 3/10\n",
      "155/155 [==============================] - 2s 12ms/step - loss: -78024040.0000 - accuracy: 0.7698 - val_loss: -155816080.0000 - val_accuracy: 0.7924\n",
      "Epoch 4/10\n",
      "155/155 [==============================] - 2s 13ms/step - loss: -314103584.0000 - accuracy: 0.7698 - val_loss: -541202880.0000 - val_accuracy: 0.7924\n",
      "Epoch 5/10\n",
      "155/155 [==============================] - 2s 13ms/step - loss: -929371520.0000 - accuracy: 0.7698 - val_loss: -1450195968.0000 - val_accuracy: 0.7924\n",
      "Epoch 6/10\n",
      "155/155 [==============================] - 2s 13ms/step - loss: -2256549632.0000 - accuracy: 0.7698 - val_loss: -3289814272.0000 - val_accuracy: 0.7924\n",
      "Epoch 7/10\n",
      "155/155 [==============================] - 2s 13ms/step - loss: -4763338752.0000 - accuracy: 0.7698 - val_loss: -6622758400.0000 - val_accuracy: 0.7924\n",
      "Epoch 8/10\n",
      "155/155 [==============================] - 2s 13ms/step - loss: -9084753920.0000 - accuracy: 0.7698 - val_loss: -12181474304.0000 - val_accuracy: 0.7924\n",
      "Epoch 9/10\n",
      "155/155 [==============================] - 2s 13ms/step - loss: -16168773632.0000 - accuracy: 0.7698 - val_loss: -20999753728.0000 - val_accuracy: 0.7924\n",
      "Epoch 10/10\n",
      "155/155 [==============================] - 2s 12ms/step - loss: -26964764672.0000 - accuracy: 0.7698 - val_loss: -34204930048.0000 - val_accuracy: 0.7924\n"
     ]
    }
   ],
   "source": [
    "print('Training model...')\n",
    "r = model.fit(\n",
    "  data,\n",
    "  targets,\n",
    "  batch_size=BATCH_SIZE,\n",
    "  epochs=EPOCHS,\n",
    "  validation_split=VALIDATION_SPLIT\n",
    ")"
   ]
  },
  {
   "cell_type": "markdown",
   "metadata": {},
   "source": [
    "# Does NLP work better when we have less data?"
   ]
  },
  {
   "cell_type": "code",
   "execution_count": 117,
   "metadata": {},
   "outputs": [],
   "source": [
    "df1,df2,df3,df4,df5,df6 = np.array_split(df_copied,6)"
   ]
  },
  {
   "cell_type": "markdown",
   "metadata": {},
   "source": [
    "# Blank DL"
   ]
  },
  {
   "cell_type": "code",
   "execution_count": 118,
   "metadata": {},
   "outputs": [
    {
     "name": "stdout",
     "output_type": "stream",
     "text": [
      "Loading in comments...\n",
      "Found 7693 unique tokens.\n",
      "Shape of data tensor: (4131, 100)\n",
      "Filling pre-trained embeddings...\n",
      "Building model...\n",
      "Training model...\n",
      "Epoch 1/10\n",
      "26/26 [==============================] - 1s 34ms/step - loss: -639.9284 - accuracy: 0.7491 - val_loss: -2209.4912 - val_accuracy: 0.7267\n",
      "Epoch 2/10\n",
      "26/26 [==============================] - 0s 14ms/step - loss: -14683.6045 - accuracy: 0.7742 - val_loss: -24220.4570 - val_accuracy: 0.7267\n",
      "Epoch 3/10\n",
      "26/26 [==============================] - 0s 14ms/step - loss: -77417.9453 - accuracy: 0.7742 - val_loss: -97760.8906 - val_accuracy: 0.7267\n",
      "Epoch 4/10\n",
      "26/26 [==============================] - 0s 13ms/step - loss: -253417.2656 - accuracy: 0.7742 - val_loss: -281040.8438 - val_accuracy: 0.7267\n",
      "Epoch 5/10\n",
      "26/26 [==============================] - 0s 13ms/step - loss: -642375.1875 - accuracy: 0.7742 - val_loss: -648141.4375 - val_accuracy: 0.7267\n",
      "Epoch 6/10\n",
      "26/26 [==============================] - 0s 14ms/step - loss: -1365832.2500 - accuracy: 0.7742 - val_loss: -1295162.0000 - val_accuracy: 0.7267\n",
      "Epoch 7/10\n",
      "26/26 [==============================] - 0s 14ms/step - loss: -2579164.2500 - accuracy: 0.7742 - val_loss: -2357751.0000 - val_accuracy: 0.7267\n",
      "Epoch 8/10\n",
      "26/26 [==============================] - 0s 14ms/step - loss: -4497272.5000 - accuracy: 0.7742 - val_loss: -3971761.0000 - val_accuracy: 0.7267\n",
      "Epoch 9/10\n",
      "26/26 [==============================] - 0s 13ms/step - loss: -7388849.5000 - accuracy: 0.7742 - val_loss: -6350047.5000 - val_accuracy: 0.7267\n",
      "Epoch 10/10\n",
      "26/26 [==============================] - 0s 13ms/step - loss: -11551957.0000 - accuracy: 0.7742 - val_loss: -9733444.0000 - val_accuracy: 0.7267\n"
     ]
    }
   ],
   "source": [
    "# prepare text samples and their labels\n",
    "print('Loading in comments...')\n",
    "\n",
    "sentences = df1[\"new_comm\"].fillna(\"DUMMY_VALUE\").values\n",
    "possible_labels = [\"hate_speech\",\"offensive_language\",\"neither\"]\n",
    "targets = df1[possible_labels].values\n",
    "# convert the sentences (strings) into integers\n",
    "tokenizer = Tokenizer(num_words=MAX_VOCAB_SIZE)\n",
    "tokenizer.fit_on_texts(sentences)\n",
    "sequences = tokenizer.texts_to_sequences(sentences)\n",
    "\n",
    "\n",
    "# get word -> integer mapping\n",
    "word2idx = tokenizer.word_index\n",
    "print('Found %s unique tokens.' % len(word2idx))\n",
    "\n",
    "\n",
    "# pad sequences so that we get a N x T matrix\n",
    "data = pad_sequences(sequences, maxlen=MAX_SEQUENCE_LENGTH)\n",
    "print('Shape of data tensor:', data.shape)\n",
    "\n",
    "\n",
    "print('Filling pre-trained embeddings...')\n",
    "num_words = min(MAX_VOCAB_SIZE, len(word2idx) + 1)\n",
    "embedding_matrix = np.zeros((num_words, EMBEDDING_DIM))\n",
    "for word, i in word2idx.items():\n",
    "    if i < MAX_VOCAB_SIZE:\n",
    "        embedding_vector = word2vec.get(word)\n",
    "        if embedding_vector is not None:\n",
    "            # words not found in embedding index will be all zeros.\n",
    "            embedding_matrix[i] = embedding_vector\n",
    "            \n",
    "            \n",
    "            \n",
    "# load pre-trained word embeddings into an Embedding layer\n",
    "# note that we set trainable = False so as to keep the embeddings fixed\n",
    "embedding_layer = Embedding(\n",
    "  num_words,\n",
    "  EMBEDDING_DIM,\n",
    "  weights=[embedding_matrix],\n",
    "  input_length=MAX_SEQUENCE_LENGTH,\n",
    "  trainable=False\n",
    ")\n",
    "\n",
    "\n",
    "print('Building model...')\n",
    "\n",
    "# train a 1D convnet with global maxpooling\n",
    "input_ = Input(shape=(MAX_SEQUENCE_LENGTH,))\n",
    "x = embedding_layer(input_)\n",
    "x = Conv1D(128, 3, activation='relu')(x)\n",
    "x = MaxPooling1D(3)(x)\n",
    "x = Conv1D(128, 3, activation='relu')(x)\n",
    "x = MaxPooling1D(3)(x)\n",
    "x = Conv1D(128, 3, activation='relu')(x)\n",
    "x = GlobalMaxPooling1D()(x)\n",
    "x = Dense(128, activation='relu')(x)\n",
    "output = Dense(len(possible_labels), activation='sigmoid')(x)\n",
    "\n",
    "model = Model(input_, output)\n",
    "model.compile(\n",
    "  loss='binary_crossentropy',\n",
    "  optimizer='rmsprop',\n",
    "  metrics=['accuracy']\n",
    ")\n",
    "\n",
    "\n",
    "print('Training model...')\n",
    "r = model.fit(\n",
    "  data,\n",
    "  targets,\n",
    "  batch_size=BATCH_SIZE,\n",
    "  epochs=EPOCHS,\n",
    "  validation_split=VALIDATION_SPLIT\n",
    ")\n"
   ]
  },
  {
   "cell_type": "code",
   "execution_count": 119,
   "metadata": {},
   "outputs": [
    {
     "name": "stdout",
     "output_type": "stream",
     "text": [
      "Loading in comments...\n",
      "Found 11733 unique tokens.\n",
      "Shape of data tensor: (4131, 100)\n",
      "Filling pre-trained embeddings...\n",
      "Building model...\n",
      "Training model...\n",
      "Epoch 1/10\n",
      "26/26 [==============================] - 0s 19ms/step - loss: -1962.9346 - accuracy: 0.7476 - val_loss: -6660.7480 - val_accuracy: 0.7267\n",
      "Epoch 2/10\n",
      "26/26 [==============================] - 0s 13ms/step - loss: -46866.3867 - accuracy: 0.7742 - val_loss: -74469.6641 - val_accuracy: 0.7267\n",
      "Epoch 3/10\n",
      "26/26 [==============================] - 0s 13ms/step - loss: -260441.1250 - accuracy: 0.7742 - val_loss: -315022.1875 - val_accuracy: 0.7267\n",
      "Epoch 4/10\n",
      "26/26 [==============================] - 0s 13ms/step - loss: -861585.2500 - accuracy: 0.7742 - val_loss: -902609.9375 - val_accuracy: 0.7267\n",
      "Epoch 5/10\n",
      "26/26 [==============================] - 0s 14ms/step - loss: -2157570.0000 - accuracy: 0.7742 - val_loss: -2067867.8750 - val_accuracy: 0.7267\n",
      "Epoch 6/10\n",
      "26/26 [==============================] - 0s 15ms/step - loss: -4627347.0000 - accuracy: 0.7742 - val_loss: -4182525.5000 - val_accuracy: 0.7267\n",
      "Epoch 7/10\n",
      "26/26 [==============================] - 0s 13ms/step - loss: -8763958.0000 - accuracy: 0.7742 - val_loss: -7587231.0000 - val_accuracy: 0.7267\n",
      "Epoch 8/10\n",
      "26/26 [==============================] - 0s 13ms/step - loss: -15319019.0000 - accuracy: 0.7742 - val_loss: -12869040.0000 - val_accuracy: 0.7267\n",
      "Epoch 9/10\n",
      "26/26 [==============================] - 0s 13ms/step - loss: -25237970.0000 - accuracy: 0.7742 - val_loss: -20672732.0000 - val_accuracy: 0.7267\n",
      "Epoch 10/10\n",
      "26/26 [==============================] - 0s 14ms/step - loss: -39443992.0000 - accuracy: 0.7742 - val_loss: -31581368.0000 - val_accuracy: 0.7267\n"
     ]
    }
   ],
   "source": [
    "# prepare text samples and their labels\n",
    "print('Loading in comments...')\n",
    "\n",
    "sentences = df1[\"tweet\"].fillna(\"DUMMY_VALUE\").values\n",
    "possible_labels = [\"hate_speech\",\"offensive_language\",\"neither\"]\n",
    "targets = df1[possible_labels].values\n",
    "# convert the sentences (strings) into integers\n",
    "tokenizer = Tokenizer(num_words=MAX_VOCAB_SIZE)\n",
    "tokenizer.fit_on_texts(sentences)\n",
    "sequences = tokenizer.texts_to_sequences(sentences)\n",
    "\n",
    "\n",
    "# get word -> integer mapping\n",
    "word2idx = tokenizer.word_index\n",
    "print('Found %s unique tokens.' % len(word2idx))\n",
    "\n",
    "\n",
    "# pad sequences so that we get a N x T matrix\n",
    "data = pad_sequences(sequences, maxlen=MAX_SEQUENCE_LENGTH)\n",
    "print('Shape of data tensor:', data.shape)\n",
    "\n",
    "\n",
    "print('Filling pre-trained embeddings...')\n",
    "num_words = min(MAX_VOCAB_SIZE, len(word2idx) + 1)\n",
    "embedding_matrix = np.zeros((num_words, EMBEDDING_DIM))\n",
    "for word, i in word2idx.items():\n",
    "    if i < MAX_VOCAB_SIZE:\n",
    "        embedding_vector = word2vec.get(word)\n",
    "        if embedding_vector is not None:\n",
    "            # words not found in embedding index will be all zeros.\n",
    "            embedding_matrix[i] = embedding_vector\n",
    "            \n",
    "            \n",
    "            \n",
    "# load pre-trained word embeddings into an Embedding layer\n",
    "# note that we set trainable = False so as to keep the embeddings fixed\n",
    "embedding_layer = Embedding(\n",
    "  num_words,\n",
    "  EMBEDDING_DIM,\n",
    "  weights=[embedding_matrix],\n",
    "  input_length=MAX_SEQUENCE_LENGTH,\n",
    "  trainable=False\n",
    ")\n",
    "\n",
    "\n",
    "print('Building model...')\n",
    "\n",
    "# train a 1D convnet with global maxpooling\n",
    "input_ = Input(shape=(MAX_SEQUENCE_LENGTH,))\n",
    "x = embedding_layer(input_)\n",
    "x = Conv1D(128, 3, activation='relu')(x)\n",
    "x = MaxPooling1D(3)(x)\n",
    "x = Conv1D(128, 3, activation='relu')(x)\n",
    "x = MaxPooling1D(3)(x)\n",
    "x = Conv1D(128, 3, activation='relu')(x)\n",
    "x = GlobalMaxPooling1D()(x)\n",
    "x = Dense(128, activation='relu')(x)\n",
    "output = Dense(len(possible_labels), activation='sigmoid')(x)\n",
    "\n",
    "model = Model(input_, output)\n",
    "model.compile(\n",
    "  loss='binary_crossentropy',\n",
    "  optimizer='rmsprop',\n",
    "  metrics=['accuracy']\n",
    ")\n",
    "\n",
    "\n",
    "print('Training model...')\n",
    "r = model.fit(\n",
    "  data,\n",
    "  targets,\n",
    "  batch_size=BATCH_SIZE,\n",
    "  epochs=EPOCHS,\n",
    "  validation_split=VALIDATION_SPLIT\n",
    ")\n"
   ]
  },
  {
   "cell_type": "markdown",
   "metadata": {},
   "source": [
    "# One more try"
   ]
  },
  {
   "cell_type": "code",
   "execution_count": 125,
   "metadata": {},
   "outputs": [],
   "source": [
    "df11,df2,df3,df4,df5,df6,df7,df8,df9,df10 = np.array_split(df1,10)"
   ]
  },
  {
   "cell_type": "code",
   "execution_count": 126,
   "metadata": {},
   "outputs": [
    {
     "name": "stdout",
     "output_type": "stream",
     "text": [
      "Loading in comments...\n",
      "Found 1483 unique tokens.\n",
      "Shape of data tensor: (414, 100)\n",
      "Filling pre-trained embeddings...\n",
      "Building model...\n",
      "Training model...\n",
      "Epoch 1/10\n",
      "3/3 [==============================] - 1s 326ms/step - loss: -0.0679 - accuracy: 0.5952 - val_loss: -3.6871 - val_accuracy: 0.7952\n",
      "Epoch 2/10\n",
      "3/3 [==============================] - 0s 21ms/step - loss: -9.4048 - accuracy: 0.8459 - val_loss: -32.5795 - val_accuracy: 0.7952\n",
      "Epoch 3/10\n",
      "3/3 [==============================] - 0s 20ms/step - loss: -59.6174 - accuracy: 0.8459 - val_loss: -136.2076 - val_accuracy: 0.7952\n",
      "Epoch 4/10\n",
      "3/3 [==============================] - 0s 20ms/step - loss: -204.5163 - accuracy: 0.8459 - val_loss: -365.2686 - val_accuracy: 0.7952\n",
      "Epoch 5/10\n",
      "3/3 [==============================] - 0s 18ms/step - loss: -499.4500 - accuracy: 0.8459 - val_loss: -784.3727 - val_accuracy: 0.7952\n",
      "Epoch 6/10\n",
      "3/3 [==============================] - 0s 19ms/step - loss: -1015.0589 - accuracy: 0.8459 - val_loss: -1447.8655 - val_accuracy: 0.7952\n",
      "Epoch 7/10\n",
      "3/3 [==============================] - 0s 20ms/step - loss: -1832.7587 - accuracy: 0.8459 - val_loss: -2469.4250 - val_accuracy: 0.7952\n",
      "Epoch 8/10\n",
      "3/3 [==============================] - 0s 19ms/step - loss: -3025.2827 - accuracy: 0.8459 - val_loss: -3849.5820 - val_accuracy: 0.7952\n",
      "Epoch 9/10\n",
      "3/3 [==============================] - 0s 22ms/step - loss: -4653.1904 - accuracy: 0.8459 - val_loss: -5723.1895 - val_accuracy: 0.7952\n",
      "Epoch 10/10\n",
      "3/3 [==============================] - 0s 19ms/step - loss: -6813.5640 - accuracy: 0.8459 - val_loss: -8203.9824 - val_accuracy: 0.7952\n"
     ]
    }
   ],
   "source": [
    "# prepare text samples and their labels\n",
    "print('Loading in comments...')\n",
    "\n",
    "sentences = df11[\"new_comm\"].fillna(\"DUMMY_VALUE\").values\n",
    "possible_labels = [\"hate_speech\",\"offensive_language\",\"neither\"]\n",
    "targets = df11[possible_labels].values\n",
    "# convert the sentences (strings) into integers\n",
    "tokenizer = Tokenizer(num_words=MAX_VOCAB_SIZE)\n",
    "tokenizer.fit_on_texts(sentences)\n",
    "sequences = tokenizer.texts_to_sequences(sentences)\n",
    "\n",
    "\n",
    "# get word -> integer mapping\n",
    "word2idx = tokenizer.word_index\n",
    "print('Found %s unique tokens.' % len(word2idx))\n",
    "\n",
    "\n",
    "# pad sequences so that we get a N x T matrix\n",
    "data = pad_sequences(sequences, maxlen=MAX_SEQUENCE_LENGTH)\n",
    "print('Shape of data tensor:', data.shape)\n",
    "\n",
    "\n",
    "print('Filling pre-trained embeddings...')\n",
    "num_words = min(MAX_VOCAB_SIZE, len(word2idx) + 1)\n",
    "embedding_matrix = np.zeros((num_words, EMBEDDING_DIM))\n",
    "for word, i in word2idx.items():\n",
    "    if i < MAX_VOCAB_SIZE:\n",
    "        embedding_vector = word2vec.get(word)\n",
    "        if embedding_vector is not None:\n",
    "            # words not found in embedding index will be all zeros.\n",
    "            embedding_matrix[i] = embedding_vector\n",
    "            \n",
    "            \n",
    "            \n",
    "# load pre-trained word embeddings into an Embedding layer\n",
    "# note that we set trainable = False so as to keep the embeddings fixed\n",
    "embedding_layer = Embedding(\n",
    "  num_words,\n",
    "  EMBEDDING_DIM,\n",
    "  weights=[embedding_matrix],\n",
    "  input_length=MAX_SEQUENCE_LENGTH,\n",
    "  trainable=False\n",
    ")\n",
    "\n",
    "\n",
    "print('Building model...')\n",
    "\n",
    "# train a 1D convnet with global maxpooling\n",
    "input_ = Input(shape=(MAX_SEQUENCE_LENGTH,))\n",
    "x = embedding_layer(input_)\n",
    "x = Conv1D(128, 3, activation='relu')(x)\n",
    "x = MaxPooling1D(3)(x)\n",
    "x = Conv1D(128, 3, activation='relu')(x)\n",
    "x = MaxPooling1D(3)(x)\n",
    "x = Conv1D(128, 3, activation='relu')(x)\n",
    "x = GlobalMaxPooling1D()(x)\n",
    "x = Dense(128, activation='relu')(x)\n",
    "output = Dense(len(possible_labels), activation='sigmoid')(x)\n",
    "\n",
    "model = Model(input_, output)\n",
    "model.compile(\n",
    "  loss='binary_crossentropy',\n",
    "  optimizer='rmsprop',\n",
    "  metrics=['accuracy']\n",
    ")\n",
    "\n",
    "\n",
    "print('Training model...')\n",
    "r = model.fit(\n",
    "  data,\n",
    "  targets,\n",
    "  batch_size=BATCH_SIZE,\n",
    "  epochs=EPOCHS,\n",
    "  validation_split=VALIDATION_SPLIT\n",
    ")\n"
   ]
  },
  {
   "cell_type": "code",
   "execution_count": 127,
   "metadata": {},
   "outputs": [
    {
     "name": "stdout",
     "output_type": "stream",
     "text": [
      "Loading in comments...\n",
      "Found 2234 unique tokens.\n",
      "Shape of data tensor: (414, 100)\n",
      "Filling pre-trained embeddings...\n",
      "Building model...\n",
      "Training model...\n",
      "Epoch 1/10\n",
      "3/3 [==============================] - 0s 65ms/step - loss: -0.3568 - accuracy: 0.6012 - val_loss: -6.5104 - val_accuracy: 0.7952\n",
      "Epoch 2/10\n",
      "3/3 [==============================] - 0s 21ms/step - loss: -18.3303 - accuracy: 0.8459 - val_loss: -66.1213 - val_accuracy: 0.7952\n",
      "Epoch 3/10\n",
      "3/3 [==============================] - 0s 24ms/step - loss: -126.4505 - accuracy: 0.8459 - val_loss: -291.1189 - val_accuracy: 0.7952\n",
      "Epoch 4/10\n",
      "3/3 [==============================] - 0s 22ms/step - loss: -460.4619 - accuracy: 0.8459 - val_loss: -841.8262 - val_accuracy: 0.7952\n",
      "Epoch 5/10\n",
      "3/3 [==============================] - 0s 24ms/step - loss: -1197.0652 - accuracy: 0.8459 - val_loss: -1852.4966 - val_accuracy: 0.7952\n",
      "Epoch 6/10\n",
      "3/3 [==============================] - 0s 22ms/step - loss: -2489.4368 - accuracy: 0.8459 - val_loss: -3494.7515 - val_accuracy: 0.7952\n",
      "Epoch 7/10\n",
      "3/3 [==============================] - 0s 24ms/step - loss: -4576.3008 - accuracy: 0.8459 - val_loss: -6051.2427 - val_accuracy: 0.7952\n",
      "Epoch 8/10\n",
      "3/3 [==============================] - 0s 21ms/step - loss: -7718.0410 - accuracy: 0.8459 - val_loss: -9785.1865 - val_accuracy: 0.7952\n",
      "Epoch 9/10\n",
      "3/3 [==============================] - 0s 24ms/step - loss: -12078.6572 - accuracy: 0.8459 - val_loss: -14525.7588 - val_accuracy: 0.7952\n",
      "Epoch 10/10\n",
      "3/3 [==============================] - 0s 20ms/step - loss: -17842.5254 - accuracy: 0.8459 - val_loss: -20994.9727 - val_accuracy: 0.7952\n"
     ]
    }
   ],
   "source": [
    "# prepare text samples and their labels\n",
    "print('Loading in comments...')\n",
    "\n",
    "sentences = df11[\"tweet\"].fillna(\"DUMMY_VALUE\").values\n",
    "possible_labels = [\"hate_speech\",\"offensive_language\",\"neither\"]\n",
    "targets = df11[possible_labels].values\n",
    "# convert the sentences (strings) into integers\n",
    "tokenizer = Tokenizer(num_words=MAX_VOCAB_SIZE)\n",
    "tokenizer.fit_on_texts(sentences)\n",
    "sequences = tokenizer.texts_to_sequences(sentences)\n",
    "\n",
    "\n",
    "# get word -> integer mapping\n",
    "word2idx = tokenizer.word_index\n",
    "print('Found %s unique tokens.' % len(word2idx))\n",
    "\n",
    "\n",
    "# pad sequences so that we get a N x T matrix\n",
    "data = pad_sequences(sequences, maxlen=MAX_SEQUENCE_LENGTH)\n",
    "print('Shape of data tensor:', data.shape)\n",
    "\n",
    "\n",
    "print('Filling pre-trained embeddings...')\n",
    "num_words = min(MAX_VOCAB_SIZE, len(word2idx) + 1)\n",
    "embedding_matrix = np.zeros((num_words, EMBEDDING_DIM))\n",
    "for word, i in word2idx.items():\n",
    "    if i < MAX_VOCAB_SIZE:\n",
    "        embedding_vector = word2vec.get(word)\n",
    "        if embedding_vector is not None:\n",
    "            # words not found in embedding index will be all zeros.\n",
    "            embedding_matrix[i] = embedding_vector\n",
    "            \n",
    "            \n",
    "            \n",
    "# load pre-trained word embeddings into an Embedding layer\n",
    "# note that we set trainable = False so as to keep the embeddings fixed\n",
    "embedding_layer = Embedding(\n",
    "  num_words,\n",
    "  EMBEDDING_DIM,\n",
    "  weights=[embedding_matrix],\n",
    "  input_length=MAX_SEQUENCE_LENGTH,\n",
    "  trainable=False\n",
    ")\n",
    "\n",
    "\n",
    "print('Building model...')\n",
    "\n",
    "# train a 1D convnet with global maxpooling\n",
    "input_ = Input(shape=(MAX_SEQUENCE_LENGTH,))\n",
    "x = embedding_layer(input_)\n",
    "x = Conv1D(128, 3, activation='relu')(x)\n",
    "x = MaxPooling1D(3)(x)\n",
    "x = Conv1D(128, 3, activation='relu')(x)\n",
    "x = MaxPooling1D(3)(x)\n",
    "x = Conv1D(128, 3, activation='relu')(x)\n",
    "x = GlobalMaxPooling1D()(x)\n",
    "x = Dense(128, activation='relu')(x)\n",
    "output = Dense(len(possible_labels), activation='sigmoid')(x)\n",
    "\n",
    "model = Model(input_, output)\n",
    "model.compile(\n",
    "  loss='binary_crossentropy',\n",
    "  optimizer='rmsprop',\n",
    "  metrics=['accuracy']\n",
    ")\n",
    "\n",
    "\n",
    "print('Training model...')\n",
    "r = model.fit(\n",
    "  data,\n",
    "  targets,\n",
    "  batch_size=BATCH_SIZE,\n",
    "  epochs=EPOCHS,\n",
    "  validation_split=VALIDATION_SPLIT\n",
    ")\n"
   ]
  },
  {
   "cell_type": "code",
   "execution_count": 128,
   "metadata": {},
   "outputs": [
    {
     "data": {
      "text/plain": [
       "414"
      ]
     },
     "execution_count": 128,
     "metadata": {},
     "output_type": "execute_result"
    }
   ],
   "source": [
    "len(df11)"
   ]
  },
  {
   "cell_type": "markdown",
   "metadata": {},
   "source": [
    "# MLP first dataset"
   ]
  },
  {
   "cell_type": "code",
   "execution_count": 64,
   "metadata": {},
   "outputs": [],
   "source": [
    "input_ = Input(shape=(MAX_SEQUENCE_LENGTH,))\n",
    "x = embedding_layer(input_)\n",
    "\n",
    "x = Dense(128, activation='relu')(x)\n",
    "x = Flatten()(x)\n",
    "output = Dense(len(possible_labels), activation='sigmoid')(x)\n",
    "\n",
    "model = Model(input_, output)\n",
    "model.compile(\n",
    "  loss='binary_crossentropy',\n",
    "  optimizer=Adam(lr = 0.01),\n",
    "  metrics=['accuracy']\n",
    ")"
   ]
  },
  {
   "cell_type": "code",
   "execution_count": 17,
   "metadata": {},
   "outputs": [
    {
     "name": "stdout",
     "output_type": "stream",
     "text": [
      "Training model...\n",
      "Epoch 1/10\n",
      "998/998 [==============================] - 7s 7ms/step - loss: 0.0861 - accuracy: 0.8232 - val_loss: 0.0762 - val_accuracy: 0.5583\n",
      "Epoch 2/10\n",
      "998/998 [==============================] - 7s 7ms/step - loss: 0.0744 - accuracy: 0.6894 - val_loss: 0.0782 - val_accuracy: 0.7783\n",
      "Epoch 3/10\n",
      "998/998 [==============================] - 7s 7ms/step - loss: 0.0709 - accuracy: 0.6718 - val_loss: 0.0809 - val_accuracy: 0.7261\n",
      "Epoch 4/10\n",
      "998/998 [==============================] - 7s 7ms/step - loss: 0.0665 - accuracy: 0.6508 - val_loss: 0.0822 - val_accuracy: 0.6933\n",
      "Epoch 5/10\n",
      "998/998 [==============================] - 7s 7ms/step - loss: 0.0616 - accuracy: 0.6510 - val_loss: 0.0855 - val_accuracy: 0.7006\n",
      "Epoch 6/10\n",
      "998/998 [==============================] - 7s 7ms/step - loss: 0.0585 - accuracy: 0.6414 - val_loss: 0.0977 - val_accuracy: 0.6719\n",
      "Epoch 7/10\n",
      "998/998 [==============================] - 7s 7ms/step - loss: 0.0556 - accuracy: 0.6382 - val_loss: 0.0953 - val_accuracy: 0.6389\n",
      "Epoch 8/10\n",
      "998/998 [==============================] - 7s 7ms/step - loss: 0.0521 - accuracy: 0.6276 - val_loss: 0.1054 - val_accuracy: 0.6771\n",
      "Epoch 9/10\n",
      "998/998 [==============================] - 7s 7ms/step - loss: 0.0506 - accuracy: 0.6248 - val_loss: 0.1068 - val_accuracy: 0.7202\n",
      "Epoch 10/10\n",
      "998/998 [==============================] - 7s 7ms/step - loss: 0.0486 - accuracy: 0.6283 - val_loss: 0.1156 - val_accuracy: 0.6041\n"
     ]
    }
   ],
   "source": [
    "print('Training model...')\n",
    "r = model.fit(\n",
    "  data,\n",
    "  targets,\n",
    "  batch_size=BATCH_SIZE,\n",
    "  epochs=EPOCHS,\n",
    "  validation_split=VALIDATION_SPLIT\n",
    ")\n"
   ]
  },
  {
   "cell_type": "code",
   "execution_count": 18,
   "metadata": {},
   "outputs": [
    {
     "data": {
      "image/png": "[encoded data removed]",
      "text/plain": [
       "<Figure size 432x288 with 1 Axes>"
      ]
     },
     "metadata": {
      "needs_background": "light"
     },
     "output_type": "display_data"
    },
    {
     "data": {
      "image/png": "[encoded data removed]",
      "text/plain": [
       "<Figure size 432x288 with 1 Axes>"
      ]
     },
     "metadata": {
      "needs_background": "light"
     },
     "output_type": "display_data"
    },
    {
     "name": "stdout",
     "output_type": "stream",
     "text": [
      "0.9627322749682814\n"
     ]
    }
   ],
   "source": [
    "# plot some data\n",
    "plt.plot(r.history['loss'], label='loss')\n",
    "plt.plot(r.history['val_loss'], label='val_loss')\n",
    "plt.legend()\n",
    "plt.show()\n",
    "\n",
    "# accuracies\n",
    "plt.plot(r.history['accuracy'], label='acc')\n",
    "plt.plot(r.history['val_accuracy'], label='val_acc')\n",
    "plt.legend()\n",
    "plt.show()\n",
    "\n",
    "\n",
    "# plot the mean AUC over each label\n",
    "p = model.predict(data)\n",
    "aucs = []\n",
    "for j in range(6):\n",
    "    auc = roc_auc_score(targets[:,j], p[:,j])\n",
    "    aucs.append(auc)\n",
    "print(np.mean(aucs))"
   ]
  },
  {
   "cell_type": "code",
   "execution_count": 24,
   "metadata": {},
   "outputs": [
    {
     "data": {
      "image/png": "[encoded data removed]",
      "text/plain": [
       "<Figure size 432x288 with 1 Axes>"
      ]
     },
     "metadata": {
      "needs_background": "light"
     },
     "output_type": "display_data"
    }
   ],
   "source": [
    "\n",
    "# accuracies\n",
    "plt.plot(r.history['accuracy'], label='acc')\n",
    "plt.plot(r.history['val_accuracy'], label='val_acc')\n",
    "plt.ylim(0,1)\n",
    "plt.legend()\n",
    "plt.show()\n"
   ]
  },
  {
   "cell_type": "code",
   "execution_count": 65,
   "metadata": {},
   "outputs": [
    {
     "name": "stdout",
     "output_type": "stream",
     "text": [
      "Training model...\n",
      "Epoch 1/10\n",
      "155/155 [==============================] - 1s 8ms/step - loss: -19656.7363 - accuracy: 0.7663 - val_loss: -69645.2188 - val_accuracy: 0.7924\n",
      "Epoch 2/10\n",
      "155/155 [==============================] - 1s 7ms/step - loss: -170087.5000 - accuracy: 0.7698 - val_loss: -317181.7500 - val_accuracy: 0.7924\n",
      "Epoch 3/10\n",
      "155/155 [==============================] - 1s 8ms/step - loss: -490682.9688 - accuracy: 0.7698 - val_loss: -738355.8750 - val_accuracy: 0.7924\n",
      "Epoch 4/10\n",
      "155/155 [==============================] - 1s 7ms/step - loss: -971193.3125 - accuracy: 0.7698 - val_loss: -1320715.2500 - val_accuracy: 0.7924\n",
      "Epoch 5/10\n",
      "155/155 [==============================] - 1s 7ms/step - loss: -1601030.1250 - accuracy: 0.7698 - val_loss: -2053098.2500 - val_accuracy: 0.7924\n",
      "Epoch 6/10\n",
      "155/155 [==============================] - 1s 7ms/step - loss: -2372285.0000 - accuracy: 0.7698 - val_loss: -2928337.2500 - val_accuracy: 0.7924\n",
      "Epoch 7/10\n",
      "155/155 [==============================] - 1s 7ms/step - loss: -3277868.7500 - accuracy: 0.7698 - val_loss: -3942871.7500 - val_accuracy: 0.7924\n",
      "Epoch 8/10\n",
      "155/155 [==============================] - 1s 7ms/step - loss: -4308773.0000 - accuracy: 0.7698 - val_loss: -5082452.0000 - val_accuracy: 0.7924\n",
      "Epoch 9/10\n",
      "155/155 [==============================] - 1s 7ms/step - loss: -5461307.0000 - accuracy: 0.7698 - val_loss: -6347277.0000 - val_accuracy: 0.7924\n",
      "Epoch 10/10\n",
      "155/155 [==============================] - 1s 7ms/step - loss: -6729170.0000 - accuracy: 0.7698 - val_loss: -7727912.5000 - val_accuracy: 0.7924\n"
     ]
    }
   ],
   "source": [
    "print('Training model...')\n",
    "r = model.fit(\n",
    "  data,\n",
    "  targets,\n",
    "  batch_size=BATCH_SIZE,\n",
    "  epochs=EPOCHS,\n",
    "  validation_split=VALIDATION_SPLIT\n",
    ")"
   ]
  },
  {
   "cell_type": "markdown",
   "metadata": {},
   "source": [
    "# Logistic Regression"
   ]
  },
  {
   "cell_type": "code",
   "execution_count": 11,
   "metadata": {},
   "outputs": [],
   "source": [
    "from sklearn.linear_model import LogisticRegression"
   ]
  },
  {
   "cell_type": "code",
   "execution_count": 12,
   "metadata": {},
   "outputs": [],
   "source": [
    "logistic_targets = []\n",
    "for number in targets:\n",
    "    suma = 0\n",
    "    suma = number[0]*100+number[1]*10+number[2]\n",
    "    logistic_targets.append(suma)"
   ]
  },
  {
   "cell_type": "code",
   "execution_count": 13,
   "metadata": {},
   "outputs": [],
   "source": [
    "test_data = data[20000:]\n",
    "test_logistic_targets = logistic_targets[20000:]\n",
    "\n",
    "data = data[:20000]\n",
    "logistic_targets = logistic_targets[:20000]"
   ]
  },
  {
   "cell_type": "code",
   "execution_count": 56,
   "metadata": {},
   "outputs": [
    {
     "name": "stderr",
     "output_type": "stream",
     "text": [
      "C:\\Users\\andre\\.conda\\envs\\test\\lib\\site-packages\\sklearn\\linear_model\\_logistic.py:940: ConvergenceWarning: lbfgs failed to converge (status=1):\n",
      "STOP: TOTAL NO. of ITERATIONS REACHED LIMIT.\n",
      "\n",
      "Increase the number of iterations (max_iter) or scale the data as shown in:\n",
      "    https://scikit-learn.org/stable/modules/preprocessing.html\n",
      "Please also refer to the documentation for alternative solver options:\n",
      "    https://scikit-learn.org/stable/modules/linear_model.html#logistic-regression\n",
      "  extra_warning_msg=_LOGISTIC_SOLVER_CONVERGENCE_MSG)\n"
     ]
    }
   ],
   "source": [
    "clf = LogisticRegression(random_state=0).fit(data, logistic_targets)"
   ]
  },
  {
   "cell_type": "code",
   "execution_count": 35,
   "metadata": {},
   "outputs": [
    {
     "name": "stdout",
     "output_type": "stream",
     "text": [
      "0.534601714405185\n"
     ]
    }
   ],
   "source": [
    "\n",
    "#altered tweet score\n",
    "score = clf.score(test_data, test_logistic_targets)\n",
    "print(score)"
   ]
  },
  {
   "cell_type": "code",
   "execution_count": 57,
   "metadata": {},
   "outputs": [
    {
     "name": "stdout",
     "output_type": "stream",
     "text": [
      "0.5435918879364415\n"
     ]
    }
   ],
   "source": [
    "#normal tweet score\n",
    "score = clf.score(test_data, test_logistic_targets)\n",
    "print(score)"
   ]
  },
  {
   "cell_type": "code",
   "execution_count": 14,
   "metadata": {},
   "outputs": [
    {
     "name": "stderr",
     "output_type": "stream",
     "text": [
      "C:\\ProgramData\\Anaconda3\\envs\\tf_gpu\\lib\\site-packages\\sklearn\\svm\\_base.py:985: ConvergenceWarning: Liblinear failed to converge, increase the number of iterations.\n",
      "  warnings.warn(\"Liblinear failed to converge, increase \"\n"
     ]
    }
   ],
   "source": [
    "#tuning\n",
    "from sklearn.datasets import make_blobs\n",
    "from sklearn.model_selection import RepeatedStratifiedKFold\n",
    "from sklearn.model_selection import GridSearchCV\n",
    "model = LogisticRegression()\n",
    "solvers = ['newton-cg', 'lbfgs', 'liblinear']\n",
    "penalty = ['l2']\n",
    "c_values = [100, 10, 1.0, 0.1, 0.01]\n",
    "grid = dict(solver=solvers,penalty=penalty,C=c_values)\n",
    "cv = RepeatedStratifiedKFold(n_splits=10, n_repeats=3, random_state=1)\n",
    "grid_search = GridSearchCV(estimator=model, param_grid=grid, n_jobs=-1, cv=cv, scoring='accuracy',error_score=0)\n",
    "grid_result = grid_search.fit(data, logistic_targets)"
   ]
  },
  {
   "cell_type": "code",
   "execution_count": 15,
   "metadata": {},
   "outputs": [
    {
     "name": "stdout",
     "output_type": "stream",
     "text": [
      "Best: 0.897483 using {'C': 0.01, 'penalty': 'l2', 'solver': 'liblinear'}\n",
      "0.896583 (0.001472) with: {'C': 100, 'penalty': 'l2', 'solver': 'newton-cg'}\n",
      "0.896717 (0.001352) with: {'C': 100, 'penalty': 'l2', 'solver': 'lbfgs'}\n",
      "0.897383 (0.001442) with: {'C': 100, 'penalty': 'l2', 'solver': 'liblinear'}\n",
      "0.896583 (0.001348) with: {'C': 10, 'penalty': 'l2', 'solver': 'newton-cg'}\n",
      "0.896700 (0.001301) with: {'C': 10, 'penalty': 'l2', 'solver': 'lbfgs'}\n",
      "0.897400 (0.001411) with: {'C': 10, 'penalty': 'l2', 'solver': 'liblinear'}\n",
      "0.896817 (0.001338) with: {'C': 1.0, 'penalty': 'l2', 'solver': 'newton-cg'}\n",
      "0.896733 (0.001302) with: {'C': 1.0, 'penalty': 'l2', 'solver': 'lbfgs'}\n",
      "0.897467 (0.001431) with: {'C': 1.0, 'penalty': 'l2', 'solver': 'liblinear'}\n",
      "0.896450 (0.001350) with: {'C': 0.1, 'penalty': 'l2', 'solver': 'newton-cg'}\n",
      "0.896750 (0.001276) with: {'C': 0.1, 'penalty': 'l2', 'solver': 'lbfgs'}\n",
      "0.897333 (0.001457) with: {'C': 0.1, 'penalty': 'l2', 'solver': 'liblinear'}\n",
      "0.896500 (0.001432) with: {'C': 0.01, 'penalty': 'l2', 'solver': 'newton-cg'}\n",
      "0.896717 (0.001400) with: {'C': 0.01, 'penalty': 'l2', 'solver': 'lbfgs'}\n",
      "0.897483 (0.001463) with: {'C': 0.01, 'penalty': 'l2', 'solver': 'liblinear'}\n"
     ]
    }
   ],
   "source": [
    "# summarize results\n",
    "print(\"Best: %f using %s\" % (grid_result.best_score_, grid_result.best_params_))\n",
    "means = grid_result.cv_results_['mean_test_score']\n",
    "stds = grid_result.cv_results_['std_test_score']\n",
    "params = grid_result.cv_results_['params']\n",
    "for mean, stdev, param in zip(means, stds, params):\n",
    "    print(\"%f (%f) with: %r\" % (mean, stdev, param))"
   ]
  },
  {
   "cell_type": "code",
   "execution_count": 16,
   "metadata": {},
   "outputs": [
    {
     "name": "stderr",
     "output_type": "stream",
     "text": [
      "C:\\ProgramData\\Anaconda3\\envs\\tf_gpu\\lib\\site-packages\\sklearn\\svm\\_base.py:985: ConvergenceWarning: Liblinear failed to converge, increase the number of iterations.\n",
      "  warnings.warn(\"Liblinear failed to converge, increase \"\n"
     ]
    }
   ],
   "source": [
    "clf = LogisticRegression(random_state=0,C = 0.01, penalty = 'l2', solver = 'liblinear').fit(data, logistic_targets)"
   ]
  },
  {
   "cell_type": "code",
   "execution_count": 17,
   "metadata": {},
   "outputs": [
    {
     "name": "stdout",
     "output_type": "stream",
     "text": [
      "0.8996353110603206\n"
     ]
    }
   ],
   "source": [
    "score = clf.score(test_data, test_logistic_targets)\n",
    "print(score)"
   ]
  },
  {
   "cell_type": "code",
   "execution_count": 20,
   "metadata": {},
   "outputs": [
    {
     "data": {
      "text/plain": [
       "139571"
      ]
     },
     "execution_count": 20,
     "metadata": {},
     "output_type": "execute_result"
    }
   ],
   "source": [
    "len(test_data)"
   ]
  },
  {
   "cell_type": "code",
   "execution_count": 23,
   "metadata": {},
   "outputs": [
    {
     "name": "stderr",
     "output_type": "stream",
     "text": [
      "C:\\ProgramData\\Anaconda3\\envs\\tf_gpu\\lib\\site-packages\\sklearn\\linear_model\\_logistic.py:763: ConvergenceWarning: lbfgs failed to converge (status=1):\n",
      "STOP: TOTAL NO. of ITERATIONS REACHED LIMIT.\n",
      "\n",
      "Increase the number of iterations (max_iter) or scale the data as shown in:\n",
      "    https://scikit-learn.org/stable/modules/preprocessing.html\n",
      "Please also refer to the documentation for alternative solver options:\n",
      "    https://scikit-learn.org/stable/modules/linear_model.html#logistic-regression\n",
      "  n_iter_i = _check_optimize_result(\n"
     ]
    }
   ],
   "source": [
    "clf = LogisticRegression(random_state=0).fit(data, logistic_targets)"
   ]
  },
  {
   "cell_type": "code",
   "execution_count": 24,
   "metadata": {},
   "outputs": [
    {
     "name": "stdout",
     "output_type": "stream",
     "text": [
      "0.898875840969829\n"
     ]
    }
   ],
   "source": [
    "score = clf.score(test_data, test_logistic_targets)\n",
    "print(score)"
   ]
  },
  {
   "cell_type": "code",
   "execution_count": null,
   "metadata": {},
   "outputs": [],
   "source": []
  }
 ],
 "metadata": {
  "kernelspec": {
   "display_name": "Python 3",
   "language": "python",
   "name": "python3"
  },
  "language_info": {
   "codemirror_mode": {
    "name": "ipython",
    "version": 3
   },
   "file_extension": ".py",
   "mimetype": "text/x-python",
   "name": "python",
   "nbconvert_exporter": "python",
   "pygments_lexer": "ipython3",
   "version": "3.8.8"
  }
 },
 "nbformat": 4,
 "nbformat_minor": 4
}
